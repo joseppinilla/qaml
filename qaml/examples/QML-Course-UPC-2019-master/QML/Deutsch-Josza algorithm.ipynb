{
 "cells": [
  {
   "cell_type": "markdown",
   "metadata": {},
   "source": [
    "## Exercise: the Deutsch-Josza algorithm\n",
    "\n",
    "Check whether the following oracles apply constant or balanced functions:"
   ]
  },
  {
   "cell_type": "code",
   "execution_count": 4,
   "metadata": {
    "collapsed": true
   },
   "outputs": [],
   "source": [
    "''' 1 qbit oracle'''\n",
    "def oracle1(quantum_register):    \n",
    "    O1 = QuantumCircuit(quantum_register)\n",
    "    O1.cx(quantum_register[n], quantum_register[0])\n",
    "    return O1\n",
    "\n",
    "''' 3 qbit oracles'''\n",
    "def oracle2(quantum_register):\n",
    "## |x>|y> -> |x>|y+x0+x_1x_2>\n",
    "    O2 = QuantumCircuit(quantum_register)\n",
    "    O2.cx(quantum_register[0], quantum_register[n])\n",
    "    O2.ccx(quantum_register[1], quantum_register[2], quantum_register[n])\n",
    "    return O2\n",
    "    \n",
    "\n",
    "def oracle3(quantum_regiter):\n",
    "## |x>|y> -> |x>|y+x0x1+x0x2+x1x2>\n",
    "    O3 = QuantumCircuit(qr)\n",
    "    O3.ccx(qr[0], qr[1], qr[n])\n",
    "    O3.ccx(qr[0], qr[2], qr[n])\n",
    "    O3.ccx(qr[1], qr[2], qr[n])\n",
    "    return O3"
   ]
  },
  {
   "cell_type": "markdown",
   "metadata": {},
   "source": [
    "Steps:\n",
    "\n",
    "- Create a circuit with given number of qubits\n",
    "- Apply the oracle to it. For that, you just need to *sum* your circuit to the oracle: `dj_circuit += oracle(quantum_register)`\n",
    "- Apply the Deutsch-Josza algorithm\n",
    "- Use the qasm simulator and the QPU to measure the circuit and compare the results"
   ]
  },
  {
   "cell_type": "markdown",
   "metadata": {},
   "source": [
    "### 1 qbit oracles:"
   ]
  },
  {
   "cell_type": "code",
   "execution_count": null,
   "metadata": {},
   "outputs": [],
   "source": []
  },
  {
   "cell_type": "markdown",
   "metadata": {},
   "source": [
    "### 3 qbit oracles"
   ]
  },
  {
   "cell_type": "code",
   "execution_count": null,
   "metadata": {
    "collapsed": true,
    "scrolled": true
   },
   "outputs": [],
   "source": []
  }
 ],
 "metadata": {
  "kernelspec": {
   "display_name": "Python 3",
   "language": "python",
   "name": "python3"
  },
  "language_info": {
   "codemirror_mode": {
    "name": "ipython",
    "version": 3
   },
   "file_extension": ".py",
   "mimetype": "text/x-python",
   "name": "python",
   "nbconvert_exporter": "python",
   "pygments_lexer": "ipython3",
   "version": "3.7.3"
  }
 },
 "nbformat": 4,
 "nbformat_minor": 2
}
