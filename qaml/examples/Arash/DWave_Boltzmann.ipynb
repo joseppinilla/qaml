{
  "cells": [
    {
      "cell_type": "markdown",
      "source": [
        "This is a boltzmann machine inspired by the article: Quantum Boltzmann Machine, mohammad H amin"
      ],
      "metadata": {}
    },
    {
      "cell_type": "code",
      "source": [
        "#import the necessary shit\n",
        "import matplotlib.pyplot as plt\n",
        "import numpy as np\n",
        "from copy import deepcopy\n",
        "\n",
        "import dimod\n",
        "from dimod.reference.samplers import SimulatedAnnealingSampler\n",
        "import dwave_networkx as dnx\n",
        "from minorminer import find_embedding\n",
        "# from dwave.system.samplers import DWaveSampler\n",
        "from dwave.system.composites import FixedEmbeddingComposite\n",
        "%matplotlib inline\n",
        "\n",
        "#Training rate\n",
        "𝜁=0.05"
      ],
      "outputs": [],
      "execution_count": 2,
      "metadata": {
        "execution": {
          "iopub.status.busy": "2021-02-11T23:06:43.571Z",
          "iopub.execute_input": "2021-02-11T23:06:43.589Z",
          "shell.execute_reply": "2021-02-11T23:06:45.840Z",
          "iopub.status.idle": "2021-02-11T23:06:45.800Z"
        }
      }
    },
    {
      "cell_type": "code",
      "source": [
        "class SRQBM():\n",
        "    def __init__(self,num_visible,num_hidden):\n",
        "        self.num_visible=num_visible\n",
        "        self.num_hidden=num_hidden\n",
        "        self.Q={}\n",
        "        self.network={'lateral_hidden_weights': 0*np.random.rand(num_hidden, num_hidden-1),'lateral_visible_weights': 0*np.random.rand(num_visible, num_visible-1),'visible_to_hidden_weights': np.random.rand(num_visible, num_hidden)-0.5,'vbias': np.random.rand(num_visible)-0.5,'hbias': np.random.rand(num_hidden)-0.5}\n",
        "    def set_up_QUBO(self,v=None,h=None):\n",
        "        if v is None:\n",
        "            v=self.network['vbias']\n",
        "        if h is None:\n",
        "            h=self.network['hbias']            \n",
        "        for i in range(0,self.num_visible):\n",
        "            self.Q[(i,i)]=v[i]\n",
        "            for j in range(0,self.num_visible):\n",
        "                if i >j:\n",
        "                    self.Q[(i,j)]=self.network['lateral_visible_weights'][i][j]\n",
        "                elif j> i:\n",
        "                    self.Q[(i,j)]=self.network['lateral_visible_weights'][i][j-1]\n",
        "            for j in range(self.num_visible,self.num_visible+self.num_hidden):\n",
        "                self.Q[(i,j)]=self.network['visible_to_hidden_weights'][i][j-self.num_visible]\n",
        "        for j in range(self.num_visible,self.num_visible+self.num_hidden):\n",
        "            self.Q[(j,j)]=h[j-self.num_visible]\n",
        "    def do_embedding(self, A):\n",
        "        i=0\n",
        "        self.embedding=None\n",
        "        while self.embedding is None and i<10:\n",
        "            self.embedding = find_embedding(self.Q, A)\n",
        "            i+=1\n",
        "        self.max_chain_length=max(len(chain) for chain in self.embedding.values())\n",
        "        \n",
        "    def sample_h_fixed(self, x, num_runs=10):\n",
        "        chainstrength=2\n",
        "        self.set_up_QUBO(h=(-4*x+2))\n",
        "        #hk=FixedEmbeddingComposite(DWaveSampler(solver={'lower_noise': True, 'qpu': True}), self.embedding).sample_qubo(self.Q, chain_strength=chainstrength, auto_scale=False, num_reads=1)\n",
        "        #h=FixedEmbeddingComposite(DWaveSampler(solver={'lower_noise': True, 'qpu': True}), self.embedding).sample_qubo(self.Q, chain_strength=chainstrength, auto_scale=False, num_reads=10000)      \n",
        "        #self.response = FixedEmbeddingComposite(DWaveSampler(solver={'lower_noise': True, 'qpu': True}), self.embedding).sample_qubo(self.Q, chain_strength=chainstrength, auto_scale=False, num_reads=10000)\n",
        "        h=SimulatedAnnealingSampler().sample_qubo(self.Q, num_reads=num_runs)\n",
        "        ph=deepcopy(h.record[0][0][:])*h.record[0][2]\n",
        "        sample_length=len(h)\n",
        "        for i in range(1,sample_length):    \n",
        "            ph+= h.record[i][0][:]*h.record[0][2]\n",
        "        ph=ph/10000 \n",
        "        return ph, h\n",
        "    \n",
        "    def sample_v_fixed(self, x, num_runs=10):\n",
        "        chainstrength=2\n",
        "        self.set_up_QUBO(v=(-4*x+2))\n",
        "        #vk=FixedEmbeddingComposite(DWaveSampler(solver={'lower_noise': True, 'qpu': True}), self.embedding).sample_qubo(self.Q, chain_strength=chainstrength, auto_scale=False, num_reads=1)\n",
        "        #v=FixedEmbeddingComposite(DWaveSampler(solver={'lower_noise': True, 'qpu': True}), self.embedding).sample_qubo(self.Q, chain_strength=chainstrength, auto_scale=False, num_reads=10000)\n",
        "        #self.response = FixedEmbeddingComposite(DWaveSampler(solver={'lower_noise': True, 'qpu': True}), self.embedding).sample_qubo(self.Q, chain_strength=chainstrength, auto_scale=False, num_reads=10000) \n",
        "        v=SimulatedAnnealingSampler().sample_qubo(self.Q, num_reads=num_runs)\n",
        "        #pv=deepcopy(self.response.record[0][0][0 : (self.num_visible)])\n",
        "        pv=deepcopy(v.record[0][0][:])*v.record[0][2] #<Za>v\n",
        "        ZaZb_v=np.array([v.record[0][0][:]]) *  np.array([v.record[0][0][:]]).T*v.record[0][2] #<ZaZb>v\n",
        "        sample_length=len(v)\n",
        "        for i in range(1,sample_length):\n",
        "            pv+= v.record[i][0][:]*v.record[i][2]  #(self.num_visible) \n",
        "            ZaZb_v+=np.array([v.record[i][0][:]]) *  np.array([v.record[i][0][:]]).T*v.record[i][2]\n",
        "        pv=pv/sample_length\n",
        "        ZaZb_v=ZaZb_v/sample_length\n",
        "        ZaZb_v=ZaZb_v[~np.eye(ZaZb_v.shape[0],dtype=bool)].reshape(ZaZb_v.shape[0],-1)\n",
        "        return pv, v, ZaZb_v\n",
        "    \n",
        "    def sample(self,num_runs=10):\n",
        "        chainstrength=2\n",
        "        self.set_up_QUBO()\n",
        "        #v=FixedEmbeddingComposite(DWaveSampler(solver={'lower_noise': True, 'qpu': True}), self.embedding).sample_qubo(self.Q, chain_strength=chainstrength, auto_scale=False, num_reads=num_runs)\n",
        "        v=SimulatedAnnealingSampler().sample_qubo(self.Q, num_reads=num_runs)\n",
        "        ps=deepcopy(v.record[0][0][:]) #<Za>\n",
        "        ZaZb=np.array([v.record[0][0][:]]) *  np.array([v.record[0][0][:]]).T*v.record[0][2] #<ZaZb>v #<ZaZb>\n",
        "        sample_length=len(v)\n",
        "        for i in range(1,sample_length):\n",
        "            ps+= v.record[i][0][:]*v.record[i][2]  #(self.num_visible) \n",
        "            ZaZb+=np.array([v.record[i][0][:]]) *  np.array([v.record[i][0][:]]).T*v.record[i][2]\n",
        "        ps=ps/sample_length    \n",
        "        ZaZb=ZaZb/sample_length\n",
        "        ZaZb=ZaZb[~np.eye(ZaZb.shape[0],dtype=bool)].reshape(ZaZb.shape[0],-1)\n",
        "        return ps, v, ZaZb\n",
        "    \n",
        "    def classical_train(self, Za_v_bar, Za, ZaZb_v_bar, ZaZb):\n",
        "        self.network['visible_to_hidden_weights'] = self.network['visible_to_hidden_weights'] + 𝜁 *(ZaZb_v_bar[self.num_visible:(self.num_visible+self.num_hidden),:self.num_visible].T-ZaZb[self.num_visible:(self.num_visible+self.num_hidden),:self.num_visible].T)\n",
        "        #print(Za_v_bar[:self.num_visible]-Za[:self.num_visible])\n",
        "        self.network['vbias'] = self.network['vbias'] + 𝜁 *(Za_v_bar[:self.num_visible]-Za[:self.num_visible])\n",
        "        self.network['hbias'] = self.network['hbias'] + 𝜁 *(Za_v_bar[self.num_visible:]-Za[self.num_visible:])\n",
        "        \n",
        "    def draw_graph(self):\n",
        "        connectivity_structure = dnx.chimera_graph(16,16)\n",
        "        fig=plt.figure(figsize=(25, 25))\n",
        "        dnx.draw_chimera_embedding(connectivity_structure, self.embedding)"
      ],
      "outputs": [],
      "execution_count": 3,
      "metadata": {
        "execution": {
          "iopub.status.busy": "2021-02-11T23:06:45.814Z",
          "iopub.execute_input": "2021-02-11T23:06:45.823Z",
          "iopub.status.idle": "2021-02-11T23:06:46.240Z",
          "shell.execute_reply": "2021-02-11T23:06:46.300Z"
        }
      }
    },
    {
      "cell_type": "code",
      "source": [
        "def train_rbm(rbm,nb_epoch, K, train_dataset):\n",
        "    for epoch in range(0, nb_epoch):\n",
        "        train_loss = 0\n",
        "        Za_v_bar=0\n",
        "        ZaZb_v_bar=0\n",
        "        s = 0\n",
        "        train_len=len(train_dataset)\n",
        "        for i in range(0, train_len):\n",
        "            v0 = train_dataset[i]\n",
        "            Za_v,_,ZaZb_v=rbm.sample_v_fixed(v0)\n",
        "            Za_v_bar += (1/train_len)*Za_v\n",
        "            ZaZb_v_bar += (1/train_len)*ZaZb_v\n",
        "            a=Za_v_bar[:rbm.num_visible]\n",
        "            b=Za_v[:rbm.num_visible]\n",
        "            s += 1.\n",
        "        Za,_,ZaZb = rbm.sample()\n",
        "        rbm.classical_train(Za_v_bar, Za, ZaZb_v_bar, ZaZb)\n",
        "        train_loss = np.mean((Za_v_bar - Za))\n",
        "        print('epoch: '+str(epoch)+' loss: '+str(train_loss))\n",
        "        rbm.set_up_QUBO()\n",
        "    return train_loss"
      ],
      "outputs": [],
      "execution_count": 4,
      "metadata": {
        "execution": {
          "iopub.status.busy": "2021-02-11T23:06:46.255Z",
          "iopub.execute_input": "2021-02-11T23:06:46.265Z",
          "iopub.status.idle": "2021-02-11T23:06:46.287Z",
          "shell.execute_reply": "2021-02-11T23:06:46.305Z"
        }
      }
    },
    {
      "cell_type": "code",
      "source": [
        "def data_generator(num_data_points, noise_probability,dim):\n",
        "    one = np.zeros((dim,dim))\n",
        "    two = np.zeros((dim,dim))\n",
        "    one[1, :] = 1 \n",
        "    one[:, 1] = 1\n",
        "    two[np.arange(dim),np.arange(dim)]=1\n",
        "    two[np.arange(dim), -np.arange(dim)-1]=1\n",
        "    data={}\n",
        "    for i in range(0,num_data_points):\n",
        "        if np.random.binomial(1, 0.5)==1:\n",
        "            data[i]=one.reshape(dim**2)+(np.random.rand(dim**2)<noise_probability).astype(int)\n",
        "            data[i]=np.mod(data[i],2)\n",
        "        else:\n",
        "            data[i]=two.reshape(dim**2)+(np.random.rand(dim**2)<noise_probability).astype(int)\n",
        "            data[i]=np.mod(data[i],2)\n",
        "    return data"
      ],
      "outputs": [],
      "execution_count": 5,
      "metadata": {
        "execution": {
          "iopub.status.busy": "2021-02-11T23:06:47.612Z",
          "iopub.execute_input": "2021-02-11T23:06:47.624Z",
          "iopub.status.idle": "2021-02-11T23:06:47.637Z",
          "shell.execute_reply": "2021-02-11T23:06:47.652Z"
        }
      }
    },
    {
      "cell_type": "code",
      "source": [
        "import networkx as nx\n",
        "\n",
        "dim=3;input_dim = dim * dim;hidden_dim = 2;nb_epoch = 6;K=1\n",
        "rbm=SRQBM(input_dim,hidden_dim)\n",
        "rbm.set_up_QUBO()\n",
        "G = nx.Graph(rbm.Q.keys())\n",
        "print(G.nodes(data=True))\n",
        "subsets = {v:v<input_dim for v in G}\n",
        "nx.set_node_attributes(G,subsets,\"subset\")\n",
        "print(G.nodes(data=True))\n",
        "nx.draw(G,nx.multipartite_layout(G))"
      ],
      "outputs": [
        {
          "output_type": "stream",
          "name": "stdout",
          "text": [
            "[(0, {}), (1, {}), (2, {}), (3, {}), (4, {}), (5, {}), (6, {}), (7, {}), (8, {}), (9, {}), (10, {})]\n",
            "[(0, {'subset': True}), (1, {'subset': True}), (2, {'subset': True}), (3, {'subset': True}), (4, {'subset': True}), (5, {'subset': True}), (6, {'subset': True}), (7, {'subset': True}), (8, {'subset': True}), (9, {'subset': False}), (10, {'subset': False})]\n"
          ]
        },
        {
          "output_type": "display_data",
          "data": {
            "text/plain": "<Figure size 432x288 with 1 Axes>",
            "image/png": "[encoded data removed]"
          },
          "metadata": {}
        }
      ],
      "execution_count": 6,
      "metadata": {
        "collapsed": true,
        "jupyter": {
          "source_hidden": false,
          "outputs_hidden": false
        },
        "nteract": {
          "transient": {
            "deleting": false
          }
        },
        "execution": {
          "iopub.status.busy": "2021-02-11T23:06:50.904Z",
          "iopub.execute_input": "2021-02-11T23:06:50.921Z",
          "iopub.status.idle": "2021-02-11T23:06:51.623Z",
          "shell.execute_reply": "2021-02-11T23:06:51.643Z"
        }
      }
    },
    {
      "cell_type": "markdown",
      "source": [
        "dim=3\n",
        "input_dim = dim * dim\n",
        "hidden_dim = 2\n",
        "nb_epoch = 6\n",
        "K=1\n",
        "\n",
        "rbm=SRQBM(input_dim,hidden_dim)\n",
        "rbm.set_up_QUBO()\n",
        "dwave_sampler = DWaveSampler(solver={'lower_noise': True, 'qpu': True})\n",
        "A = dwave_sampler.edgelist\n",
        "rbm.do_embedding(A)\n",
        "rbm.draw_graph()\n",
        "rbm.max_chain_length"
      ],
      "metadata": {
        "nteract": {
          "transient": {
            "deleting": false
          }
        }
      }
    },
    {
      "cell_type": "markdown",
      "source": [
        "We can generate some data. It can even be noisy!"
      ],
      "metadata": {}
    },
    {
      "cell_type": "code",
      "source": [
        "#generate some data\n",
        "np.random.seed(26)\n",
        "data=data_generator(4, 0.0, dim)\n",
        "fig, ax = plt.subplots(ncols=4)\n",
        "ax[0].imshow(data[0].reshape(dim,dim))\n",
        "ax[1].imshow(data[1].reshape(dim,dim))\n",
        "ax[2].imshow(data[2].reshape(dim,dim))\n",
        "ax[3].imshow(data[3].reshape(dim,dim))"
      ],
      "outputs": [
        {
          "output_type": "execute_result",
          "execution_count": 7,
          "data": {
            "text/plain": "<matplotlib.image.AxesImage at 0x1fbba84ee80>"
          },
          "metadata": {}
        },
        {
          "output_type": "display_data",
          "data": {
            "text/plain": "<Figure size 432x288 with 4 Axes>",
            "image/png": "[encoded data removed]"
          },
          "metadata": {
            "needs_background": "light"
          }
        }
      ],
      "execution_count": 7,
      "metadata": {
        "scrolled": true,
        "execution": {
          "iopub.status.busy": "2021-02-11T23:06:54.710Z",
          "iopub.execute_input": "2021-02-11T23:06:54.726Z",
          "iopub.status.idle": "2021-02-11T23:06:55.254Z",
          "shell.execute_reply": "2021-02-11T23:06:55.272Z"
        }
      }
    },
    {
      "cell_type": "code",
      "source": [
        "train_rbm(rbm, 5, K, data)"
      ],
      "outputs": [
        {
          "output_type": "stream",
          "name": "stdout",
          "text": [
            "epoch: 0 loss: -0.052272727272727276\n",
            "epoch: 1 loss: 0.0409090909090909\n",
            "epoch: 2 loss: -0.015909090909090904\n",
            "epoch: 3 loss: 0.059090909090909104\n",
            "epoch: 4 loss: 0.07272727272727272\n"
          ]
        },
        {
          "output_type": "execute_result",
          "execution_count": 8,
          "data": {
            "text/plain": "0.07272727272727272"
          },
          "metadata": {}
        }
      ],
      "execution_count": 8,
      "metadata": {
        "scrolled": true,
        "execution": {
          "iopub.status.busy": "2021-02-11T23:06:55.592Z",
          "iopub.execute_input": "2021-02-11T23:06:55.609Z",
          "iopub.status.idle": "2021-02-11T23:07:36.275Z",
          "shell.execute_reply": "2021-02-11T23:07:36.287Z"
        }
      }
    },
    {
      "cell_type": "code",
      "source": [
        "rbm.network"
      ],
      "outputs": [
        {
          "output_type": "execute_result",
          "execution_count": 9,
          "data": {
            "text/plain": "{'hbias': array([-0.26652159,  0.39186977]),\n 'lateral_hidden_weights': array([[0.],\n        [0.]]),\n 'lateral_visible_weights': array([[0., 0., 0., 0., 0., 0., 0., 0.],\n        [0., 0., 0., 0., 0., 0., 0., 0.],\n        [0., 0., 0., 0., 0., 0., 0., 0.],\n        [0., 0., 0., 0., 0., 0., 0., 0.],\n        [0., 0., 0., 0., 0., 0., 0., 0.],\n        [0., 0., 0., 0., 0., 0., 0., 0.],\n        [0., 0., 0., 0., 0., 0., 0., 0.],\n        [0., 0., 0., 0., 0., 0., 0., 0.],\n        [0., 0., 0., 0., 0., 0., 0., 0.]]),\n 'vbias': array([-0.41737932,  0.27800171,  0.39632156, -0.51360866, -0.26886124,\n         0.55035809,  0.35560648, -0.56006554, -0.18318526]),\n 'visible_to_hidden_weights': array([[-0.49791789, -0.25752762],\n        [-0.01991548,  0.26215806],\n        [ 0.0210212 ,  0.36835743],\n        [ 0.40536665, -0.08797406],\n        [ 0.03055453, -0.36377171],\n        [ 0.32929035,  0.11622149],\n        [-0.30544221,  0.42062438],\n        [-0.10230285, -0.14528505],\n        [ 0.34173107, -0.36119449]])}"
          },
          "metadata": {}
        }
      ],
      "execution_count": 9,
      "metadata": {
        "execution": {
          "shell.execute_reply": "2021-02-11T23:07:56.420Z",
          "iopub.status.busy": "2021-02-11T23:07:56.367Z",
          "iopub.execute_input": "2021-02-11T23:07:56.385Z",
          "iopub.status.idle": "2021-02-11T23:07:56.406Z"
        }
      }
    },
    {
      "cell_type": "code",
      "source": [
        "fig, ax=plt.subplots(ncols=3)\n",
        "ax[0].imshow(rbm.network['vbias'].reshape(dim,dim))\n",
        "ax[1].imshow(rbm.network['visible_to_hidden_weights'][:,0].reshape(dim,dim))\n",
        "ax[2].imshow(rbm.network['visible_to_hidden_weights'][:,1].reshape(dim,dim))"
      ],
      "outputs": [
        {
          "output_type": "execute_result",
          "execution_count": 10,
          "data": {
            "text/plain": "<matplotlib.image.AxesImage at 0x1fbba96acc0>"
          },
          "metadata": {}
        },
        {
          "output_type": "display_data",
          "data": {
            "text/plain": "<Figure size 432x288 with 3 Axes>",
            "image/png": "[encoded data removed]"
          },
          "metadata": {
            "needs_background": "light"
          }
        }
      ],
      "execution_count": 10,
      "metadata": {
        "execution": {
          "iopub.status.busy": "2021-02-11T23:07:58.068Z",
          "iopub.execute_input": "2021-02-11T23:07:58.092Z",
          "iopub.status.idle": "2021-02-11T23:07:58.455Z",
          "shell.execute_reply": "2021-02-11T23:07:58.476Z"
        }
      }
    },
    {
      "cell_type": "code",
      "source": [
        "_,H=rbm.sample_h_fixed(np.array([1,1]))"
      ],
      "outputs": [],
      "execution_count": 15,
      "metadata": {
        "execution": {
          "iopub.status.busy": "2021-02-11T23:08:11.794Z",
          "iopub.execute_input": "2021-02-11T23:08:11.808Z",
          "iopub.status.idle": "2021-02-11T23:08:13.142Z",
          "shell.execute_reply": "2021-02-11T23:08:13.131Z"
        }
      }
    },
    {
      "cell_type": "code",
      "source": [
        "fig, ax = plt.subplots(ncols=4)\n",
        "\n",
        "for i in range(4):\n",
        "    ax[i].imshow(H.record[i][0][:9].reshape(dim,dim))"
      ],
      "outputs": [
        {
          "output_type": "display_data",
          "data": {
            "text/plain": "<Figure size 432x288 with 4 Axes>",
            "image/png": "[encoded data removed]"
          },
          "metadata": {
            "needs_background": "light"
          }
        }
      ],
      "execution_count": 17,
      "metadata": {
        "execution": {
          "iopub.status.busy": "2021-02-11T23:08:23.023Z",
          "iopub.execute_input": "2021-02-11T23:08:23.040Z",
          "shell.execute_reply": "2021-02-11T23:08:23.495Z",
          "iopub.status.idle": "2021-02-11T23:08:23.511Z"
        }
      }
    },
    {
      "cell_type": "code",
      "source": [
        "H.record"
      ],
      "outputs": [
        {
          "output_type": "execute_result",
          "execution_count": 16,
          "data": {
            "text/plain": "rec.array([([1, 0, 1, 1, 1, 0, 1, 1, 0, 1, 1], -5.5222839 , 1),\n           ([1, 0, 0, 1, 1, 1, 0, 1, 1, 1, 1], -5.98555148, 1),\n           ([1, 1, 0, 0, 1, 0, 0, 1, 0, 1, 1], -6.06231239, 1),\n           ([1, 1, 1, 0, 0, 0, 0, 1, 0, 1, 1], -4.67453378, 1),\n           ([1, 0, 1, 1, 0, 0, 0, 1, 1, 1, 1], -5.5936428 , 1),\n           ([1, 0, 0, 1, 1, 0, 0, 1, 1, 1, 1], -6.98142141, 1),\n           ([1, 0, 0, 1, 1, 0, 0, 1, 0, 1, 1], -6.77877275, 1),\n           ([1, 1, 0, 0, 1, 0, 0, 1, 1, 1, 1], -6.26496106, 1),\n           ([1, 0, 0, 1, 1, 0, 0, 1, 1, 1, 1], -6.98142141, 1),\n           ([1, 0, 0, 1, 1, 0, 0, 1, 0, 1, 1], -6.77877275, 1)],\n          dtype=[('sample', 'i1', (11,)), ('energy', '<f8'), ('num_occurrences', '<i4')])"
          },
          "metadata": {}
        }
      ],
      "execution_count": 16,
      "metadata": {
        "execution": {
          "iopub.status.busy": "2021-02-11T23:08:16.079Z",
          "iopub.execute_input": "2021-02-11T23:08:16.088Z",
          "iopub.status.idle": "2021-02-11T23:08:16.112Z",
          "shell.execute_reply": "2021-02-11T23:08:16.123Z"
        }
      }
    },
    {
      "cell_type": "markdown",
      "source": [
        "### Boltzmann machine useful papers:\n",
        "\n",
        "1. Roux, N. L. & Bengio, Y. Representational power of restricted Boltzmann machines and deep belief networks. Neural Comput. 20, 1631–1649 (2008).\n",
        "2. Restricted Boltzmann machines in quantum physics\n",
        "3. Quantum Boltzmann Machine, mohammad H amiin"
      ],
      "metadata": {}
    },
    {
      "cell_type": "code",
      "source": [],
      "outputs": [],
      "execution_count": null,
      "metadata": {}
    }
  ],
  "metadata": {
    "kernelspec": {
      "display_name": "Python 3",
      "language": "python",
      "name": "python3"
    },
    "language_info": {
      "name": "python",
      "version": "3.6.6",
      "mimetype": "text/x-python",
      "codemirror_mode": {
        "name": "ipython",
        "version": 3
      },
      "pygments_lexer": "ipython3",
      "nbconvert_exporter": "python",
      "file_extension": ".py"
    },
    "nteract": {
      "version": "0.28.0"
    }
  },
  "nbformat": 4,
  "nbformat_minor": 2
}