{
 "cells": [
  {
   "cell_type": "markdown",
   "metadata": {},
   "source": [
    "## RBM unsupervised training example of MNIST using Persistent Contrastive Divergence (PCD-1).\n",
    "Developed by: Jose Pinilla"
   ]
  },
  {
   "cell_type": "code",
   "execution_count": 1,
   "metadata": {},
   "outputs": [],
   "source": [
    "# Required Packages\n",
    "import qaml\n",
    "import torch\n",
    "\n",
    "import matplotlib.pyplot as plt\n",
    "\n",
    "import torchvision.datasets as torch_datasets\n",
    "import torchvision.transforms as torch_transforms"
   ]
  },
  {
   "cell_type": "code",
   "execution_count": 2,
   "metadata": {},
   "outputs": [],
   "source": [
    "################################# Hyperparameters ##############################\n",
    "EPOCHS = 5\n",
    "BATCH_SIZE = 64\n",
    "M,N = SHAPE = (28,28)\n",
    "# Stochastic Gradient Descent\n",
    "learning_rate = 1e-3\n",
    "weight_decay = 1e-4\n",
    "momentum = 0.5"
   ]
  },
  {
   "cell_type": "code",
   "execution_count": 3,
   "metadata": {},
   "outputs": [],
   "source": [
    "#################################### Input Data ################################\n",
    "train_dataset = torch_datasets.MNIST(root='./data/', train=True,\n",
    "                                     transform=torch_transforms.ToTensor(),\n",
    "                                     download=True)\n",
    "train_loader = torch.utils.data.DataLoader(train_dataset, batch_size=BATCH_SIZE,\n",
    "                                           shuffle=True)\n",
    "\n",
    "test_dataset = torch_datasets.MNIST(root='./data/', train=False,\n",
    "                                    transform=torch_transforms.ToTensor(),\n",
    "                                    download=True)\n",
    "test_loader = torch.utils.data.DataLoader(test_dataset)"
   ]
  },
  {
   "cell_type": "code",
   "execution_count": 4,
   "metadata": {},
   "outputs": [],
   "source": [
    "################################# Model Definition #############################\n",
    "VISIBLE_SIZE = M*N\n",
    "HIDDEN_SIZE = 128\n",
    "\n",
    "# Specify model with dimensions\n",
    "rbm = qaml.nn.RBM(VISIBLE_SIZE, HIDDEN_SIZE)\n",
    "\n",
    "# Set up optimizer\n",
    "optimizer = torch.optim.SGD(rbm.parameters(), lr=learning_rate,\n",
    "                                              weight_decay=weight_decay,\n",
    "                                              momentum=momentum)\n",
    "# Set up training mechanisms\n",
    "sampler = qaml.sampler.GibbsNetworkSampler(rbm, BATCH_SIZE)\n",
    "CD = qaml.autograd.ContrastiveDivergence()"
   ]
  },
  {
   "cell_type": "code",
   "execution_count": 5,
   "metadata": {},
   "outputs": [
    {
     "name": "stdout",
     "output_type": "stream",
     "text": [
      "Epoch 0 Reconstruction Error = 78534.859375\n",
      "Epoch 1 Reconstruction Error = 27791.2109375\n",
      "Epoch 2 Reconstruction Error = 18152.427734375\n",
      "Epoch 3 Reconstruction Error = 14738.3583984375\n",
      "Epoch 4 Reconstruction Error = 13188.908203125\n"
     ]
    }
   ],
   "source": [
    "################################## Model Training ##############################\n",
    "# Set the model to training mode\n",
    "rbm.train()\n",
    "err_log = []\n",
    "for t in range(EPOCHS):\n",
    "    epoch_error = torch.Tensor([0.])\n",
    "    for img_batch, labels_batch in train_loader:\n",
    "\n",
    "        input_data = img_batch.flatten(1)\n",
    "\n",
    "        # Positive Phase\n",
    "        v0, p_h0 = sampler(input_data,k=0)\n",
    "        # Negative Phase\n",
    "        p_vk, p_hk = sampler(k=1)\n",
    "\n",
    "        # Reconstruction error from Contrastive Divergence\n",
    "        err = CD.apply(sampler, (v0,p_h0), (p_vk,p_hk), *rbm.parameters())\n",
    "\n",
    "        # Do not accumulated gradients\n",
    "        optimizer.zero_grad()\n",
    "        # Compute gradients. Save compute graph at last epoch\n",
    "        err.backward(retain_graph=(t == EPOCHS-1))\n",
    "\n",
    "        # Update parameters\n",
    "        optimizer.step()\n",
    "        epoch_error  += err\n",
    "    err_log.append(epoch_error.item())\n",
    "    print(f\"Epoch {t} Reconstruction Error = {epoch_error.item()}\")"
   ]
  },
  {
   "cell_type": "code",
   "execution_count": 6,
   "metadata": {},
   "outputs": [
    {
     "data": {
      "text/plain": [
       "Text(0.5, 0, 'Epoch')"
      ]
     },
     "execution_count": 6,
     "metadata": {},
     "output_type": "execute_result"
    },
    {
     "data": {
      "image/png": "[encoded data removed]",
      "text/plain": [
       "<Figure size 432x288 with 1 Axes>"
      ]
     },
     "metadata": {
      "needs_background": "light"
     },
     "output_type": "display_data"
    }
   ],
   "source": [
    "# Reconstruction error graph\n",
    "fig, ax = plt.subplots()\n",
    "plt.plot(err_log)\n",
    "plt.ylabel(\"Reconstruction Error\")\n",
    "plt.xlabel(\"Epoch\")"
   ]
  },
  {
   "cell_type": "code",
   "execution_count": 7,
   "metadata": {},
   "outputs": [
    {
     "data": {
      "image/svg+xml": [
       "<?xml version=\"1.0\" encoding=\"UTF-8\" standalone=\"no\"?>\n",
       "<!DOCTYPE svg PUBLIC \"-//W3C//DTD SVG 1.1//EN\"\n",
       " \"http://www.w3.org/Graphics/SVG/1.1/DTD/svg11.dtd\">\n",
       "<!-- Generated by graphviz version 2.50.0 (20211204.2007)\n",
       " -->\n",
       "<!-- Pages: 1 -->\n",
       "<svg width=\"727pt\" height=\"228pt\"\n",
       " viewBox=\"0.00 0.00 727.00 228.00\" xmlns=\"http://www.w3.org/2000/svg\" xmlns:xlink=\"http://www.w3.org/1999/xlink\">\n",
       "<g id=\"graph0\" class=\"graph\" transform=\"scale(1 1) rotate(0) translate(4 224)\">\n",
       "<polygon fill=\"white\" stroke=\"transparent\" points=\"-4,4 -4,-224 723,-224 723,4 -4,4\"/>\n",
       "<!-- 2112140846560 -->\n",
       "<g id=\"node1\" class=\"node\">\n",
       "<title>2112140846560</title>\n",
       "<polygon fill=\"#caff70\" stroke=\"black\" points=\"422.5,-31 368.5,-31 368.5,0 422.5,0 422.5,-31\"/>\n",
       "<text text-anchor=\"middle\" x=\"395.5\" y=\"-7\" font-family=\"monospace\" font-size=\"10.00\"> ()</text>\n",
       "</g>\n",
       "<!-- 2112140907008 -->\n",
       "<g id=\"node2\" class=\"node\">\n",
       "<title>2112140907008</title>\n",
       "<polygon fill=\"lightgrey\" stroke=\"black\" points=\"491,-86 300,-86 300,-67 491,-67 491,-86\"/>\n",
       "<text text-anchor=\"middle\" x=\"395.5\" y=\"-74\" font-family=\"monospace\" font-size=\"10.00\">ContrastiveDivergenceBackward</text>\n",
       "</g>\n",
       "<!-- 2112140907008&#45;&gt;2112140846560 -->\n",
       "<g id=\"edge11\" class=\"edge\">\n",
       "<title>2112140907008&#45;&gt;2112140846560</title>\n",
       "<path fill=\"none\" stroke=\"black\" d=\"M395.5,-66.79C395.5,-60.07 395.5,-50.4 395.5,-41.34\"/>\n",
       "<polygon fill=\"black\" stroke=\"black\" points=\"399,-41.19 395.5,-31.19 392,-41.19 399,-41.19\"/>\n",
       "</g>\n",
       "<!-- 2112138964752 -->\n",
       "<g id=\"node3\" class=\"node\">\n",
       "<title>2112138964752</title>\n",
       "<polygon fill=\"lightgrey\" stroke=\"black\" points=\"101,-147 0,-147 0,-128 101,-128 101,-147\"/>\n",
       "<text text-anchor=\"middle\" x=\"50.5\" y=\"-135\" font-family=\"monospace\" font-size=\"10.00\">AccumulateGrad</text>\n",
       "</g>\n",
       "<!-- 2112138964752&#45;&gt;2112140907008 -->\n",
       "<g id=\"edge1\" class=\"edge\">\n",
       "<title>2112138964752&#45;&gt;2112140907008</title>\n",
       "<path fill=\"none\" stroke=\"black\" d=\"M83.15,-127.94C91.7,-125.85 100.92,-123.72 109.5,-122 180.5,-107.78 262.19,-95.47 320.03,-87.42\"/>\n",
       "<polygon fill=\"black\" stroke=\"black\" points=\"320.76,-90.86 330.19,-86.02 319.8,-83.92 320.76,-90.86\"/>\n",
       "</g>\n",
       "<!-- 2112137696016 -->\n",
       "<g id=\"node4\" class=\"node\">\n",
       "<title>2112137696016</title>\n",
       "<polygon fill=\"lightblue\" stroke=\"black\" points=\"77.5,-220 23.5,-220 23.5,-189 77.5,-189 77.5,-220\"/>\n",
       "<text text-anchor=\"middle\" x=\"50.5\" y=\"-196\" font-family=\"monospace\" font-size=\"10.00\"> (784)</text>\n",
       "</g>\n",
       "<!-- 2112137696016&#45;&gt;2112138964752 -->\n",
       "<g id=\"edge2\" class=\"edge\">\n",
       "<title>2112137696016&#45;&gt;2112138964752</title>\n",
       "<path fill=\"none\" stroke=\"black\" d=\"M50.5,-188.75C50.5,-179.39 50.5,-167.19 50.5,-157.16\"/>\n",
       "<polygon fill=\"black\" stroke=\"black\" points=\"54,-157.02 50.5,-147.02 47,-157.02 54,-157.02\"/>\n",
       "</g>\n",
       "<!-- 2112138964560 -->\n",
       "<g id=\"node5\" class=\"node\">\n",
       "<title>2112138964560</title>\n",
       "<polygon fill=\"lightgrey\" stroke=\"black\" points=\"220,-147 119,-147 119,-128 220,-128 220,-147\"/>\n",
       "<text text-anchor=\"middle\" x=\"169.5\" y=\"-135\" font-family=\"monospace\" font-size=\"10.00\">AccumulateGrad</text>\n",
       "</g>\n",
       "<!-- 2112138964560&#45;&gt;2112140907008 -->\n",
       "<g id=\"edge3\" class=\"edge\">\n",
       "<title>2112138964560&#45;&gt;2112140907008</title>\n",
       "<path fill=\"none\" stroke=\"black\" d=\"M202.36,-127.92C242.11,-117.54 309.13,-100.05 352.83,-88.64\"/>\n",
       "<polygon fill=\"black\" stroke=\"black\" points=\"353.81,-92 362.6,-86.09 352.04,-85.23 353.81,-92\"/>\n",
       "</g>\n",
       "<!-- 2111653656912 -->\n",
       "<g id=\"node6\" class=\"node\">\n",
       "<title>2111653656912</title>\n",
       "<polygon fill=\"lightblue\" stroke=\"black\" points=\"196.5,-220 142.5,-220 142.5,-189 196.5,-189 196.5,-220\"/>\n",
       "<text text-anchor=\"middle\" x=\"169.5\" y=\"-196\" font-family=\"monospace\" font-size=\"10.00\"> (128)</text>\n",
       "</g>\n",
       "<!-- 2111653656912&#45;&gt;2112138964560 -->\n",
       "<g id=\"edge4\" class=\"edge\">\n",
       "<title>2111653656912&#45;&gt;2112138964560</title>\n",
       "<path fill=\"none\" stroke=\"black\" d=\"M169.5,-188.75C169.5,-179.39 169.5,-167.19 169.5,-157.16\"/>\n",
       "<polygon fill=\"black\" stroke=\"black\" points=\"173,-157.02 169.5,-147.02 166,-157.02 173,-157.02\"/>\n",
       "</g>\n",
       "<!-- 2112138964800 -->\n",
       "<g id=\"node7\" class=\"node\">\n",
       "<title>2112138964800</title>\n",
       "<polygon fill=\"lightgrey\" stroke=\"black\" points=\"339,-147 238,-147 238,-128 339,-128 339,-147\"/>\n",
       "<text text-anchor=\"middle\" x=\"288.5\" y=\"-135\" font-family=\"monospace\" font-size=\"10.00\">AccumulateGrad</text>\n",
       "</g>\n",
       "<!-- 2112138964800&#45;&gt;2112140907008 -->\n",
       "<g id=\"edge5\" class=\"edge\">\n",
       "<title>2112138964800&#45;&gt;2112140907008</title>\n",
       "<path fill=\"none\" stroke=\"black\" d=\"M304.29,-127.79C321.93,-118.07 350.71,-102.2 371.22,-90.89\"/>\n",
       "<polygon fill=\"black\" stroke=\"black\" points=\"372.93,-93.94 379.99,-86.05 369.55,-87.81 372.93,-93.94\"/>\n",
       "</g>\n",
       "<!-- 2111653656992 -->\n",
       "<g id=\"node8\" class=\"node\">\n",
       "<title>2111653656992</title>\n",
       "<polygon fill=\"lightblue\" stroke=\"black\" points=\"330,-220 247,-220 247,-189 330,-189 330,-220\"/>\n",
       "<text text-anchor=\"middle\" x=\"288.5\" y=\"-196\" font-family=\"monospace\" font-size=\"10.00\"> (128, 784)</text>\n",
       "</g>\n",
       "<!-- 2111653656992&#45;&gt;2112138964800 -->\n",
       "<g id=\"edge6\" class=\"edge\">\n",
       "<title>2111653656992&#45;&gt;2112138964800</title>\n",
       "<path fill=\"none\" stroke=\"black\" d=\"M288.5,-188.75C288.5,-179.39 288.5,-167.19 288.5,-157.16\"/>\n",
       "<polygon fill=\"black\" stroke=\"black\" points=\"292,-157.02 288.5,-147.02 285,-157.02 292,-157.02\"/>\n",
       "</g>\n",
       "<!-- 2112140890496 -->\n",
       "<g id=\"node9\" class=\"node\">\n",
       "<title>2112140890496</title>\n",
       "<polygon fill=\"orange\" stroke=\"black\" points=\"434,-153 357,-153 357,-122 434,-122 434,-153\"/>\n",
       "<text text-anchor=\"middle\" x=\"395.5\" y=\"-129\" font-family=\"monospace\" font-size=\"10.00\"> (32, 784)</text>\n",
       "</g>\n",
       "<!-- 2112140890496&#45;&gt;2112140907008 -->\n",
       "<g id=\"edge7\" class=\"edge\">\n",
       "<title>2112140890496&#45;&gt;2112140907008</title>\n",
       "<path fill=\"none\" stroke=\"black\" d=\"M395.5,-121.92C395.5,-114.22 395.5,-104.69 395.5,-96.43\"/>\n",
       "<polygon fill=\"black\" stroke=\"black\" points=\"399,-96.25 395.5,-86.25 392,-96.25 399,-96.25\"/>\n",
       "</g>\n",
       "<!-- 2112140890896 -->\n",
       "<g id=\"node10\" class=\"node\">\n",
       "<title>2112140890896</title>\n",
       "<polygon fill=\"orange\" stroke=\"black\" points=\"529,-153 452,-153 452,-122 529,-122 529,-153\"/>\n",
       "<text text-anchor=\"middle\" x=\"490.5\" y=\"-129\" font-family=\"monospace\" font-size=\"10.00\"> (32, 128)</text>\n",
       "</g>\n",
       "<!-- 2112140890896&#45;&gt;2112140907008 -->\n",
       "<g id=\"edge8\" class=\"edge\">\n",
       "<title>2112140890896&#45;&gt;2112140907008</title>\n",
       "<path fill=\"none\" stroke=\"black\" d=\"M467.02,-121.92C452,-112.59 432.64,-100.57 417.85,-91.38\"/>\n",
       "<polygon fill=\"black\" stroke=\"black\" points=\"419.65,-88.38 409.31,-86.08 415.96,-94.33 419.65,-88.38\"/>\n",
       "</g>\n",
       "<!-- 2112140892096 -->\n",
       "<g id=\"node11\" class=\"node\">\n",
       "<title>2112140892096</title>\n",
       "<polygon fill=\"orange\" stroke=\"black\" points=\"624,-153 547,-153 547,-122 624,-122 624,-153\"/>\n",
       "<text text-anchor=\"middle\" x=\"585.5\" y=\"-129\" font-family=\"monospace\" font-size=\"10.00\"> (32, 784)</text>\n",
       "</g>\n",
       "<!-- 2112140892096&#45;&gt;2112140907008 -->\n",
       "<g id=\"edge9\" class=\"edge\">\n",
       "<title>2112140892096&#45;&gt;2112140907008</title>\n",
       "<path fill=\"none\" stroke=\"black\" d=\"M546.59,-124.42C513.24,-114.06 465.51,-99.24 432.67,-89.04\"/>\n",
       "<polygon fill=\"black\" stroke=\"black\" points=\"433.58,-85.66 422.99,-86.04 431.5,-92.34 433.58,-85.66\"/>\n",
       "</g>\n",
       "<!-- 2112140891136 -->\n",
       "<g id=\"node12\" class=\"node\">\n",
       "<title>2112140891136</title>\n",
       "<polygon fill=\"orange\" stroke=\"black\" points=\"719,-153 642,-153 642,-122 719,-122 719,-153\"/>\n",
       "<text text-anchor=\"middle\" x=\"680.5\" y=\"-129\" font-family=\"monospace\" font-size=\"10.00\"> (32, 128)</text>\n",
       "</g>\n",
       "<!-- 2112140891136&#45;&gt;2112140907008 -->\n",
       "<g id=\"edge10\" class=\"edge\">\n",
       "<title>2112140891136&#45;&gt;2112140907008</title>\n",
       "<path fill=\"none\" stroke=\"black\" d=\"M641.87,-124.2C639.05,-123.42 636.24,-122.68 633.5,-122 575.78,-107.75 509.19,-95.66 461.15,-87.7\"/>\n",
       "<polygon fill=\"black\" stroke=\"black\" points=\"461.63,-84.23 451.19,-86.06 460.49,-91.14 461.63,-84.23\"/>\n",
       "</g>\n",
       "</g>\n",
       "</svg>\n"
      ],
      "text/plain": [
       "<graphviz.graphs.Digraph at 0x1ebc54aefd0>"
      ]
     },
     "execution_count": 7,
     "metadata": {},
     "output_type": "execute_result"
    }
   ],
   "source": [
    "################################# VISUALIZE ####################################\n",
    "# Computation Graph\n",
    "from torchviz import make_dot\n",
    "make_dot(err)"
   ]
  },
  {
   "cell_type": "markdown",
   "metadata": {},
   "source": [
    "Plot the distribution of energies for (a) the training data, (b) the test data (c) a set of random samples of visible configurations. The expected result is to have both (a) and (b) as clusters of lower energy, and (c) as a normal distribution to the right, i.e. high energy."
   ]
  },
  {
   "cell_type": "code",
   "execution_count": 8,
   "metadata": {},
   "outputs": [
    {
     "data": {
      "text/plain": [
       "<matplotlib.legend.Legend at 0x1ebc538e490>"
      ]
     },
     "execution_count": 8,
     "metadata": {},
     "output_type": "execute_result"
    },
    {
     "data": {
      "image/png": "[encoded data removed]",
      "text/plain": [
       "<Figure size 432x288 with 1 Axes>"
      ]
     },
     "metadata": {
      "needs_background": "light"
     },
     "output_type": "display_data"
    }
   ],
   "source": [
    "################################## ENERGY ######################################\n",
    "data_energies = []\n",
    "for img,_ in train_dataset:\n",
    "    data_energies.append(rbm.free_energy(img.float().view(rbm.V)).item())\n",
    "\n",
    "test_energies = []\n",
    "for img,_ in test_dataset:\n",
    "    test_energies.append(rbm.free_energy(img.float().view(rbm.V)).item())\n",
    "\n",
    "rand_energies = []\n",
    "for _ in range(len(train_dataset)):\n",
    "    rand_energies.append(rbm.free_energy(torch.rand(rbm.V)).item())\n",
    "\n",
    "plt.hist(data_energies,label=\"Data\",bins=100)\n",
    "plt.hist(test_energies,label=\"Test\",bins=100)\n",
    "plt.hist(rand_energies,label=\"Random\",bins=100)\n",
    "plt.ylabel(\"Count\")\n",
    "plt.xlabel(\"Energy\")\n",
    "plt.legend()"
   ]
  },
  {
   "cell_type": "markdown",
   "metadata": {},
   "source": [
    "It's possible to sample from the joint probability of the model and plot the visible units of those samples. This doesn't necessarily sample an image of a number."
   ]
  },
  {
   "cell_type": "code",
   "execution_count": null,
   "metadata": {},
   "outputs": [
    {
     "data": {
      "image/png": "[encoded data removed]",
      "text/plain": [
       "<Figure size 432x288 with 4 Axes>"
      ]
     },
     "metadata": {
      "needs_background": "light"
     },
     "output_type": "display_data"
    }
   ],
   "source": [
    "################################## SAMPLE ######################################\n",
    "SAMPLES=4\n",
    "prob_vk,prob_hk = sampler(torch.rand(BATCH_SIZE,rbm.V)*0.1,k=3)\n",
    "fig,axs = plt.subplots(1,SAMPLES)\n",
    "for ax,vk in zip(axs.flat,prob_vk):\n",
    "    ax.matshow(vk.detach().view(28, 28))\n",
    "    ax.axis('off')\n",
    "fig.subplots_adjust(wspace=0.1, hspace=0.0)"
   ]
  },
  {
   "cell_type": "code",
   "execution_count": 10,
   "metadata": {},
   "outputs": [
    {
     "data": {
      "text/plain": [
       "<matplotlib.image.AxesImage at 0x1ebc7533820>"
      ]
     },
     "execution_count": 10,
     "metadata": {},
     "output_type": "execute_result"
    },
    {
     "data": {
      "image/png": "[encoded data removed]",
      "text/plain": [
       "<Figure size 432x288 with 3 Axes>"
      ]
     },
     "metadata": {
      "needs_background": "light"
     },
     "output_type": "display_data"
    }
   ],
   "source": [
    "############################ NOISE RECONSTRUCTION ##############################\n",
    "input_data, label = train_loader.dataset[85] # Random input\n",
    "corrupt_data = (input_data + torch.randn_like(input_data)*0.5).view(1,784)\n",
    "prob_vk,prob_hk = sampler(corrupt_data.clone(),k=1)\n",
    "recon_data = prob_vk.detach()\n",
    "\n",
    "fig,axs = plt.subplots(1,3)\n",
    "axs[0].matshow(input_data.view(28,28))\n",
    "axs[1].matshow(corrupt_data.view(28,28))\n",
    "axs[2].matshow(recon_data.detach().view(28,28))"
   ]
  },
  {
   "cell_type": "code",
   "execution_count": 11,
   "metadata": {},
   "outputs": [
    {
     "data": {
      "text/plain": [
       "<matplotlib.image.AxesImage at 0x1ebc76627c0>"
      ]
     },
     "execution_count": 11,
     "metadata": {},
     "output_type": "execute_result"
    },
    {
     "data": {
      "image/png": "[encoded data removed]",
      "text/plain": [
       "<Figure size 432x288 with 3 Axes>"
      ]
     },
     "metadata": {
      "needs_background": "light"
     },
     "output_type": "display_data"
    }
   ],
   "source": [
    "############################## RECONSTRUCTION ##################################\n",
    "input_data, label = train_loader.dataset[4]\n",
    "mask = torch.ones_like(input_data)\n",
    "for i in range(0,15): # Is there a nicer way to create random masks?\n",
    "    for j in range(0,15):\n",
    "        mask[0][j][i] = 0\n",
    "\n",
    "corrupt_data = (input_data*mask).view(1,784)\n",
    "\n",
    "prob_vk,prob_hk = sampler(corrupt_data.clone(),k=1)\n",
    "fig,axs = plt.subplots(1,3)\n",
    "axs[0].matshow(input_data.view(28, 28))\n",
    "axs[1].matshow(corrupt_data.view(28, 28))\n",
    "axs[2].matshow(prob_vk.detach().view(28, 28))"
   ]
  },
  {
   "cell_type": "markdown",
   "metadata": {},
   "source": [
    "Even though this model was trained unsupervised, it is possible to now use it as a pre-trained model and \"fit\" its hidden layers and output and perform training on that."
   ]
  },
  {
   "cell_type": "code",
   "execution_count": 12,
   "metadata": {},
   "outputs": [
    {
     "name": "stdout",
     "output_type": "stream",
     "text": [
      "Epoch 0 Loss = 16.344905853271484\n",
      "Testing accuracy: 8632/10000\n",
      "Epoch 1 Loss = 8.760297775268555\n",
      "Testing accuracy: 9035/10000\n",
      "Epoch 2 Loss = 6.418242931365967\n",
      "Testing accuracy: 9151/10000\n",
      "Epoch 3 Loss = 6.33777379989624\n",
      "Testing accuracy: 9257/10000\n",
      "Epoch 4 Loss = 5.176335334777832\n",
      "Testing accuracy: 9301/10000\n",
      "Epoch 5 Loss = 6.68268346786499\n",
      "Testing accuracy: 9372/10000\n",
      "Epoch 6 Loss = 6.2941975593566895\n",
      "Testing accuracy: 9403/10000\n",
      "Epoch 7 Loss = 4.240209579467773\n",
      "Testing accuracy: 9435/10000\n",
      "Epoch 8 Loss = 4.2346296310424805\n",
      "Testing accuracy: 9450/10000\n",
      "Epoch 9 Loss = 7.845439910888672\n",
      "Testing accuracy: 9457/10000\n"
     ]
    }
   ],
   "source": [
    "############################### CLASSIFIER ####################################\n",
    "LABEL_SIZE = len(train_dataset.classes)\n",
    "\n",
    "model = torch.nn.Sequential(rbm,\n",
    "                            torch.nn.Linear(HIDDEN_SIZE,LABEL_SIZE),)\n",
    "loss_fn = torch.nn.MSELoss(reduction='sum')\n",
    "optimizer = torch.optim.Adam(model.parameters(), lr=1e-4)\n",
    "\n",
    "loss_log = []\n",
    "accuracy_log = []\n",
    "for t in range(10):\n",
    "    for v_batch, labels_batch in train_loader:\n",
    "        # Forward pass: compute predicted y by passing x to the model.\n",
    "        y_pred = model(v_batch.view(len(v_batch),VISIBLE_SIZE))\n",
    "\n",
    "        # Compute and print loss.\n",
    "        loss = loss_fn(y_pred, torch.nn.functional.one_hot(labels_batch,10)*1.0)\n",
    "\n",
    "        # Before the backward pass, use the optimizer object to zero all of the\n",
    "        # gradients for the Tensors it will update (which are the learnable weights\n",
    "        # of the model)\n",
    "        optimizer.zero_grad()\n",
    "\n",
    "        # Backward pass: compute gradient of the loss with respect to model parameters\n",
    "        loss.backward()\n",
    "\n",
    "        # Calling the step function on an Optimizer makes an update to its parameters\n",
    "        optimizer.step()\n",
    "\n",
    "    loss_log.append(loss.item())\n",
    "    print(f\"Epoch {t} Loss = {loss.item()}\")\n",
    "\n",
    "    count = 0\n",
    "    for test_data, test_label in test_loader:\n",
    "        label_pred = model(test_data.view(1,VISIBLE_SIZE)).argmax()\n",
    "        if label_pred == test_label:\n",
    "            count+=1\n",
    "    accuracy_log.append(count/len(test_dataset))\n",
    "    print(f\"Testing accuracy: {count}/{len(test_dataset)}\")"
   ]
  },
  {
   "cell_type": "code",
   "execution_count": 13,
   "metadata": {},
   "outputs": [
    {
     "data": {
      "text/plain": [
       "Text(0.5, 0, 'Epoch')"
      ]
     },
     "execution_count": 13,
     "metadata": {},
     "output_type": "execute_result"
    },
    {
     "data": {
      "image/png": "[encoded data removed]",
      "text/plain": [
       "<Figure size 432x288 with 1 Axes>"
      ]
     },
     "metadata": {
      "needs_background": "light"
     },
     "output_type": "display_data"
    }
   ],
   "source": [
    "fig, ax = plt.subplots()\n",
    "plt.plot(loss_log)\n",
    "plt.ylabel(\"Loss\")\n",
    "plt.xlabel(\"Epoch\")"
   ]
  },
  {
   "cell_type": "code",
   "execution_count": 14,
   "metadata": {},
   "outputs": [
    {
     "data": {
      "text/plain": [
       "Text(0.5, 0, 'Epoch')"
      ]
     },
     "execution_count": 14,
     "metadata": {},
     "output_type": "execute_result"
    },
    {
     "data": {
      "image/png": "[encoded data removed]",
      "text/plain": [
       "<Figure size 432x288 with 1 Axes>"
      ]
     },
     "metadata": {
      "needs_background": "light"
     },
     "output_type": "display_data"
    }
   ],
   "source": [
    "fig, ax = plt.subplots()\n",
    "plt.plot(accuracy_log)\n",
    "plt.ylabel(\"Accuracy\")\n",
    "plt.xlabel(\"Epoch\")"
   ]
  }
 ],
 "metadata": {
  "kernelspec": {
   "display_name": "Python 3",
   "language": "python",
   "name": "python3"
  },
  "language_info": {
   "codemirror_mode": {
    "name": "ipython",
    "version": 3
   },
   "file_extension": ".py",
   "mimetype": "text/x-python",
   "name": "python",
   "nbconvert_exporter": "python",
   "pygments_lexer": "ipython3",
   "version": "3.9.6"
  }
 },
 "nbformat": 4,
 "nbformat_minor": 2
}
