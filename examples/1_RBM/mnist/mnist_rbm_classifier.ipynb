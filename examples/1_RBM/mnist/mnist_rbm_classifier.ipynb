{
 "cells": [
  {
   "cell_type": "markdown",
   "metadata": {},
   "source": [
    "## Classic MNIST Classifier using an RBM\n",
    "Developed by: Jose Pinilla "
   ]
  },
  {
   "cell_type": "code",
   "execution_count": 1,
   "metadata": {},
   "outputs": [],
   "source": [
    "# Required Packages\n",
    "import qaml\n",
    "import torch\n",
    "\n",
    "import matplotlib.pyplot as plt\n",
    "\n",
    "import torchvision.datasets as torch_datasets\n",
    "import torchvision.transforms as torch_transforms"
   ]
  },
  {
   "cell_type": "code",
   "execution_count": 2,
   "metadata": {},
   "outputs": [],
   "source": [
    "################################# Hyperparameters ##############################\n",
    "EPOCHS = 20\n",
    "BATCH_SIZE = 64\n",
    "M,N = SHAPE = (28,28)\n",
    "# Stochastic Gradient Descent\n",
    "learning_rate = 1e-2\n",
    "weight_decay = 1e-4\n",
    "momentum = 0.5"
   ]
  },
  {
   "cell_type": "code",
   "execution_count": 3,
   "metadata": {},
   "outputs": [
    {
     "data": {
      "image/png": "[encoded data removed]",
      "text/plain": [
       "<Figure size 432x288 with 20 Axes>"
      ]
     },
     "metadata": {
      "needs_background": "light"
     },
     "output_type": "display_data"
    }
   ],
   "source": [
    "############################ Dataset and Transformations #######################\n",
    "mnist_train = torch_datasets.MNIST(root='./data/', train=True, download=True,\n",
    "                                     transform=qaml.datasets.ToBinaryTensor())\n",
    "                                     # transform=qaml.datasets.ToSpinTensor())\n",
    "qaml.datasets._embed_labels(mnist_train,axis=1,encoding='one_hot',scale=255)\n",
    "train_loader = torch.utils.data.DataLoader(mnist_train,batch_size=BATCH_SIZE)\n",
    "\n",
    "mnist_test = torch_datasets.MNIST(root='./data/', train=False, download=True,\n",
    "                                  transform=qaml.datasets.ToBinaryTensor())\n",
    "                                  # transform=qaml.datasets.ToSpinTensor())\n",
    "set_label,get_label = qaml.datasets._embed_labels(mnist_test,encoding='one_hot',\n",
    "                                                 scale=255,setter_getter=True)\n",
    "test_loader = torch.utils.data.DataLoader(mnist_test)\n",
    "\n",
    "# Visualize\n",
    "fig,axs = plt.subplots(4,5)\n",
    "for ax,(img,label) in zip(axs.flat,test_loader):\n",
    "    ax.matshow(img.squeeze())\n",
    "    ax.set_title(int(label))\n",
    "    ax.axis('off')\n",
    "plt.tight_layout()"
   ]
  },
  {
   "cell_type": "code",
   "execution_count": 4,
   "metadata": {},
   "outputs": [],
   "source": [
    "################################# Model Definition #############################\n",
    "VISIBLE_SIZE = M*N\n",
    "HIDDEN_SIZE = 128\n",
    "\n",
    "# Specify model with dimensions\n",
    "rbm = qaml.nn.RBM(VISIBLE_SIZE, HIDDEN_SIZE, 'BINARY')\n",
    "\n",
    "_ = torch.nn.init.uniform_(rbm.b,-0.1,0.1)\n",
    "_ = torch.nn.init.uniform_(rbm.c,-0.1,0.1)\n",
    "_ = torch.nn.init.uniform_(rbm.W,-0.1,0.1)\n",
    "\n",
    "# Set up optimizer\n",
    "optimizer = torch.optim.SGD(rbm.parameters(), lr=learning_rate,\n",
    "                                              weight_decay=weight_decay,\n",
    "                                              momentum=momentum)\n",
    "# Set up training mechanisms\n",
    "pos_sampler = neg_sampler = qaml.sampler.GibbsNetworkSampler(rbm,BATCH_SIZE)\n",
    "CD = qaml.autograd.ContrastiveDivergence"
   ]
  },
  {
   "cell_type": "code",
   "execution_count": 5,
   "metadata": {},
   "outputs": [
    {
     "name": "stdout",
     "output_type": "stream",
     "text": [
      "Epoch 0 Reconstruction Error = 32289.478515625\n",
      "Testing accuracy: 8169/10000\n",
      "Epoch 1 Reconstruction Error = 16888.171875\n",
      "Testing accuracy: 8667/10000\n",
      "Epoch 2 Reconstruction Error = 16017.0947265625\n",
      "Testing accuracy: 8838/10000\n",
      "Epoch 3 Reconstruction Error = 15483.3271484375\n",
      "Testing accuracy: 8925/10000\n",
      "Epoch 4 Reconstruction Error = 15131.169921875\n",
      "Testing accuracy: 8969/10000\n",
      "Epoch 5 Reconstruction Error = 14874.3466796875\n",
      "Testing accuracy: 9014/10000\n",
      "Epoch 6 Reconstruction Error = 14627.3232421875\n",
      "Testing accuracy: 9032/10000\n",
      "Epoch 7 Reconstruction Error = 14446.583984375\n",
      "Testing accuracy: 9051/10000\n",
      "Epoch 8 Reconstruction Error = 14272.3408203125\n",
      "Testing accuracy: 9058/10000\n",
      "Epoch 9 Reconstruction Error = 14127.5654296875\n",
      "Testing accuracy: 9066/10000\n",
      "Epoch 10 Reconstruction Error = 13958.802734375\n",
      "Testing accuracy: 9080/10000\n",
      "Epoch 11 Reconstruction Error = 13817.4296875\n",
      "Testing accuracy: 9063/10000\n",
      "Epoch 12 Reconstruction Error = 13715.26953125\n",
      "Testing accuracy: 9065/10000\n",
      "Epoch 13 Reconstruction Error = 13604.1435546875\n",
      "Testing accuracy: 9068/10000\n",
      "Epoch 14 Reconstruction Error = 13492.1171875\n",
      "Testing accuracy: 9078/10000\n",
      "Epoch 15 Reconstruction Error = 13361.90234375\n",
      "Testing accuracy: 9087/10000\n",
      "Epoch 16 Reconstruction Error = 13282.865234375\n",
      "Testing accuracy: 9096/10000\n",
      "Epoch 17 Reconstruction Error = 13206.9111328125\n",
      "Testing accuracy: 9104/10000\n",
      "Epoch 18 Reconstruction Error = 13104.783203125\n",
      "Testing accuracy: 9118/10000\n",
      "Epoch 19 Reconstruction Error = 13018.0419921875\n",
      "Testing accuracy: 9128/10000\n"
     ]
    }
   ],
   "source": [
    "################################## Model Training ##############################\n",
    "# Set the model to training mode\n",
    "rbm.train()\n",
    "err_log = []\n",
    "accuracy_log = []\n",
    "for t in range(EPOCHS):\n",
    "    epoch_error = torch.Tensor([0.])\n",
    "    for img_batch, labels_batch in train_loader:\n",
    "\n",
    "        input_data = img_batch.flatten(1)\n",
    "\n",
    "        # Positive Phase\n",
    "        v0, p_h0 = pos_sampler(input_data, k=0)\n",
    "        # Negative Phase\n",
    "        p_vk, p_hk = neg_sampler(v0, k=5)\n",
    "\n",
    "        # Reconstruction error from Contrastive Divergence\n",
    "        err = CD.apply(neg_sampler, (v0,p_h0), (p_vk,p_hk), *rbm.parameters())\n",
    "\n",
    "        # Do not accumulated gradients\n",
    "        optimizer.zero_grad()\n",
    "        # Compute gradients. Save compute graph at last epoch\n",
    "        err.backward(retain_graph = (t==EPOCHS-1))\n",
    "\n",
    "        # Update parameters\n",
    "        optimizer.step()\n",
    "        epoch_error  += err\n",
    "    err_log.append(epoch_error.item())\n",
    "    print(f\"Epoch {t} Reconstruction Error = {epoch_error.item()}\")\n",
    "\n",
    "    ############################## CLASSIFICATION ##################################\n",
    "    count = 0\n",
    "    for test_data, test_label in test_loader:\n",
    "        input_data = set_label(test_data.view(1,*SHAPE),0)\n",
    "        prob_hk = rbm.forward(input_data.flatten(1))\n",
    "        label_pred = get_label(rbm.generate(prob_hk).view(1,*SHAPE))\n",
    "        if label_pred.argmax() == test_label.item():\n",
    "            count+=1\n",
    "    accuracy_log.append(count/len(mnist_test))\n",
    "    print(f\"Testing accuracy: {count}/{len(mnist_test)}\")\n"
   ]
  },
  {
   "cell_type": "code",
   "execution_count": 6,
   "metadata": {},
   "outputs": [
    {
     "data": {
      "text/plain": [
       "Text(0.5, 0, 'Epoch')"
      ]
     },
     "execution_count": 6,
     "metadata": {},
     "output_type": "execute_result"
    },
    {
     "data": {
      "image/png": "[encoded data removed]",
      "text/plain": [
       "<Figure size 432x288 with 1 Axes>"
      ]
     },
     "metadata": {
      "needs_background": "light"
     },
     "output_type": "display_data"
    }
   ],
   "source": [
    "# Reconstruction error graph\n",
    "fig, ax = plt.subplots()\n",
    "plt.plot(err_log)\n",
    "plt.ylabel(\"Reconstruction Error\")\n",
    "plt.xlabel(\"Epoch\")\n"
   ]
  },
  {
   "cell_type": "code",
   "execution_count": 7,
   "metadata": {},
   "outputs": [
    {
     "data": {
      "text/plain": [
       "Text(0.5, 0, 'Epoch')"
      ]
     },
     "execution_count": 7,
     "metadata": {},
     "output_type": "execute_result"
    },
    {
     "data": {
      "image/png": "[encoded data removed]",
      "text/plain": [
       "<Figure size 432x288 with 1 Axes>"
      ]
     },
     "metadata": {
      "needs_background": "light"
     },
     "output_type": "display_data"
    }
   ],
   "source": [
    "# Accuracy graph\n",
    "fig, ax = plt.subplots()\n",
    "plt.plot(accuracy_log)\n",
    "plt.ylabel(\"Accuracy\")\n",
    "plt.xlabel(\"Epoch\")"
   ]
  },
  {
   "cell_type": "code",
   "execution_count": 8,
   "metadata": {},
   "outputs": [
    {
     "data": {
      "image/svg+xml": [
       "<?xml version=\"1.0\" encoding=\"UTF-8\" standalone=\"no\"?>\n",
       "<!DOCTYPE svg PUBLIC \"-//W3C//DTD SVG 1.1//EN\"\n",
       " \"http://www.w3.org/Graphics/SVG/1.1/DTD/svg11.dtd\">\n",
       "<!-- Generated by graphviz version 2.50.0 (20211204.2007)\n",
       " -->\n",
       "<!-- Pages: 1 -->\n",
       "<svg width=\"727pt\" height=\"228pt\"\n",
       " viewBox=\"0.00 0.00 727.00 228.00\" xmlns=\"http://www.w3.org/2000/svg\" xmlns:xlink=\"http://www.w3.org/1999/xlink\">\n",
       "<g id=\"graph0\" class=\"graph\" transform=\"scale(1 1) rotate(0) translate(4 224)\">\n",
       "<polygon fill=\"white\" stroke=\"transparent\" points=\"-4,4 -4,-224 723,-224 723,4 -4,4\"/>\n",
       "<!-- 2619462943824 -->\n",
       "<g id=\"node1\" class=\"node\">\n",
       "<title>2619462943824</title>\n",
       "<polygon fill=\"#caff70\" stroke=\"black\" points=\"422.5,-31 368.5,-31 368.5,0 422.5,0 422.5,-31\"/>\n",
       "<text text-anchor=\"middle\" x=\"395.5\" y=\"-7\" font-family=\"monospace\" font-size=\"10.00\"> ()</text>\n",
       "</g>\n",
       "<!-- 2619462967360 -->\n",
       "<g id=\"node2\" class=\"node\">\n",
       "<title>2619462967360</title>\n",
       "<polygon fill=\"lightgrey\" stroke=\"black\" points=\"491,-86 300,-86 300,-67 491,-67 491,-86\"/>\n",
       "<text text-anchor=\"middle\" x=\"395.5\" y=\"-74\" font-family=\"monospace\" font-size=\"10.00\">ContrastiveDivergenceBackward</text>\n",
       "</g>\n",
       "<!-- 2619462967360&#45;&gt;2619462943824 -->\n",
       "<g id=\"edge11\" class=\"edge\">\n",
       "<title>2619462967360&#45;&gt;2619462943824</title>\n",
       "<path fill=\"none\" stroke=\"black\" d=\"M395.5,-66.79C395.5,-60.07 395.5,-50.4 395.5,-41.34\"/>\n",
       "<polygon fill=\"black\" stroke=\"black\" points=\"399,-41.19 395.5,-31.19 392,-41.19 399,-41.19\"/>\n",
       "</g>\n",
       "<!-- 2619463990528 -->\n",
       "<g id=\"node3\" class=\"node\">\n",
       "<title>2619463990528</title>\n",
       "<polygon fill=\"lightgrey\" stroke=\"black\" points=\"101,-147 0,-147 0,-128 101,-128 101,-147\"/>\n",
       "<text text-anchor=\"middle\" x=\"50.5\" y=\"-135\" font-family=\"monospace\" font-size=\"10.00\">AccumulateGrad</text>\n",
       "</g>\n",
       "<!-- 2619463990528&#45;&gt;2619462967360 -->\n",
       "<g id=\"edge1\" class=\"edge\">\n",
       "<title>2619463990528&#45;&gt;2619462967360</title>\n",
       "<path fill=\"none\" stroke=\"black\" d=\"M83.15,-127.94C91.7,-125.85 100.92,-123.72 109.5,-122 180.5,-107.78 262.19,-95.47 320.03,-87.42\"/>\n",
       "<polygon fill=\"black\" stroke=\"black\" points=\"320.76,-90.86 330.19,-86.02 319.8,-83.92 320.76,-90.86\"/>\n",
       "</g>\n",
       "<!-- 2619429522224 -->\n",
       "<g id=\"node4\" class=\"node\">\n",
       "<title>2619429522224</title>\n",
       "<polygon fill=\"lightblue\" stroke=\"black\" points=\"77.5,-220 23.5,-220 23.5,-189 77.5,-189 77.5,-220\"/>\n",
       "<text text-anchor=\"middle\" x=\"50.5\" y=\"-196\" font-family=\"monospace\" font-size=\"10.00\"> (784)</text>\n",
       "</g>\n",
       "<!-- 2619429522224&#45;&gt;2619463990528 -->\n",
       "<g id=\"edge2\" class=\"edge\">\n",
       "<title>2619429522224&#45;&gt;2619463990528</title>\n",
       "<path fill=\"none\" stroke=\"black\" d=\"M50.5,-188.75C50.5,-179.39 50.5,-167.19 50.5,-157.16\"/>\n",
       "<polygon fill=\"black\" stroke=\"black\" points=\"54,-157.02 50.5,-147.02 47,-157.02 54,-157.02\"/>\n",
       "</g>\n",
       "<!-- 2619463990240 -->\n",
       "<g id=\"node5\" class=\"node\">\n",
       "<title>2619463990240</title>\n",
       "<polygon fill=\"lightgrey\" stroke=\"black\" points=\"220,-147 119,-147 119,-128 220,-128 220,-147\"/>\n",
       "<text text-anchor=\"middle\" x=\"169.5\" y=\"-135\" font-family=\"monospace\" font-size=\"10.00\">AccumulateGrad</text>\n",
       "</g>\n",
       "<!-- 2619463990240&#45;&gt;2619462967360 -->\n",
       "<g id=\"edge3\" class=\"edge\">\n",
       "<title>2619463990240&#45;&gt;2619462967360</title>\n",
       "<path fill=\"none\" stroke=\"black\" d=\"M202.36,-127.92C242.11,-117.54 309.13,-100.05 352.83,-88.64\"/>\n",
       "<polygon fill=\"black\" stroke=\"black\" points=\"353.81,-92 362.6,-86.09 352.04,-85.23 353.81,-92\"/>\n",
       "</g>\n",
       "<!-- 2619429522464 -->\n",
       "<g id=\"node6\" class=\"node\">\n",
       "<title>2619429522464</title>\n",
       "<polygon fill=\"lightblue\" stroke=\"black\" points=\"196.5,-220 142.5,-220 142.5,-189 196.5,-189 196.5,-220\"/>\n",
       "<text text-anchor=\"middle\" x=\"169.5\" y=\"-196\" font-family=\"monospace\" font-size=\"10.00\"> (128)</text>\n",
       "</g>\n",
       "<!-- 2619429522464&#45;&gt;2619463990240 -->\n",
       "<g id=\"edge4\" class=\"edge\">\n",
       "<title>2619429522464&#45;&gt;2619463990240</title>\n",
       "<path fill=\"none\" stroke=\"black\" d=\"M169.5,-188.75C169.5,-179.39 169.5,-167.19 169.5,-157.16\"/>\n",
       "<polygon fill=\"black\" stroke=\"black\" points=\"173,-157.02 169.5,-147.02 166,-157.02 173,-157.02\"/>\n",
       "</g>\n",
       "<!-- 2619463989568 -->\n",
       "<g id=\"node7\" class=\"node\">\n",
       "<title>2619463989568</title>\n",
       "<polygon fill=\"lightgrey\" stroke=\"black\" points=\"339,-147 238,-147 238,-128 339,-128 339,-147\"/>\n",
       "<text text-anchor=\"middle\" x=\"288.5\" y=\"-135\" font-family=\"monospace\" font-size=\"10.00\">AccumulateGrad</text>\n",
       "</g>\n",
       "<!-- 2619463989568&#45;&gt;2619462967360 -->\n",
       "<g id=\"edge5\" class=\"edge\">\n",
       "<title>2619463989568&#45;&gt;2619462967360</title>\n",
       "<path fill=\"none\" stroke=\"black\" d=\"M304.29,-127.79C321.93,-118.07 350.71,-102.2 371.22,-90.89\"/>\n",
       "<polygon fill=\"black\" stroke=\"black\" points=\"372.93,-93.94 379.99,-86.05 369.55,-87.81 372.93,-93.94\"/>\n",
       "</g>\n",
       "<!-- 2619437205920 -->\n",
       "<g id=\"node8\" class=\"node\">\n",
       "<title>2619437205920</title>\n",
       "<polygon fill=\"lightblue\" stroke=\"black\" points=\"330,-220 247,-220 247,-189 330,-189 330,-220\"/>\n",
       "<text text-anchor=\"middle\" x=\"288.5\" y=\"-196\" font-family=\"monospace\" font-size=\"10.00\"> (128, 784)</text>\n",
       "</g>\n",
       "<!-- 2619437205920&#45;&gt;2619463989568 -->\n",
       "<g id=\"edge6\" class=\"edge\">\n",
       "<title>2619437205920&#45;&gt;2619463989568</title>\n",
       "<path fill=\"none\" stroke=\"black\" d=\"M288.5,-188.75C288.5,-179.39 288.5,-167.19 288.5,-157.16\"/>\n",
       "<polygon fill=\"black\" stroke=\"black\" points=\"292,-157.02 288.5,-147.02 285,-157.02 292,-157.02\"/>\n",
       "</g>\n",
       "<!-- 2619462945264 -->\n",
       "<g id=\"node9\" class=\"node\">\n",
       "<title>2619462945264</title>\n",
       "<polygon fill=\"orange\" stroke=\"black\" points=\"434,-153 357,-153 357,-122 434,-122 434,-153\"/>\n",
       "<text text-anchor=\"middle\" x=\"395.5\" y=\"-129\" font-family=\"monospace\" font-size=\"10.00\"> (32, 784)</text>\n",
       "</g>\n",
       "<!-- 2619462945264&#45;&gt;2619462967360 -->\n",
       "<g id=\"edge7\" class=\"edge\">\n",
       "<title>2619462945264&#45;&gt;2619462967360</title>\n",
       "<path fill=\"none\" stroke=\"black\" d=\"M395.5,-121.92C395.5,-114.22 395.5,-104.69 395.5,-96.43\"/>\n",
       "<polygon fill=\"black\" stroke=\"black\" points=\"399,-96.25 395.5,-86.25 392,-96.25 399,-96.25\"/>\n",
       "</g>\n",
       "<!-- 2619462946384 -->\n",
       "<g id=\"node10\" class=\"node\">\n",
       "<title>2619462946384</title>\n",
       "<polygon fill=\"orange\" stroke=\"black\" points=\"529,-153 452,-153 452,-122 529,-122 529,-153\"/>\n",
       "<text text-anchor=\"middle\" x=\"490.5\" y=\"-129\" font-family=\"monospace\" font-size=\"10.00\"> (32, 128)</text>\n",
       "</g>\n",
       "<!-- 2619462946384&#45;&gt;2619462967360 -->\n",
       "<g id=\"edge8\" class=\"edge\">\n",
       "<title>2619462946384&#45;&gt;2619462967360</title>\n",
       "<path fill=\"none\" stroke=\"black\" d=\"M467.02,-121.92C452,-112.59 432.64,-100.57 417.85,-91.38\"/>\n",
       "<polygon fill=\"black\" stroke=\"black\" points=\"419.65,-88.38 409.31,-86.08 415.96,-94.33 419.65,-88.38\"/>\n",
       "</g>\n",
       "<!-- 2619462946624 -->\n",
       "<g id=\"node11\" class=\"node\">\n",
       "<title>2619462946624</title>\n",
       "<polygon fill=\"orange\" stroke=\"black\" points=\"624,-153 547,-153 547,-122 624,-122 624,-153\"/>\n",
       "<text text-anchor=\"middle\" x=\"585.5\" y=\"-129\" font-family=\"monospace\" font-size=\"10.00\"> (32, 784)</text>\n",
       "</g>\n",
       "<!-- 2619462946624&#45;&gt;2619462967360 -->\n",
       "<g id=\"edge9\" class=\"edge\">\n",
       "<title>2619462946624&#45;&gt;2619462967360</title>\n",
       "<path fill=\"none\" stroke=\"black\" d=\"M546.59,-124.42C513.24,-114.06 465.51,-99.24 432.67,-89.04\"/>\n",
       "<polygon fill=\"black\" stroke=\"black\" points=\"433.58,-85.66 422.99,-86.04 431.5,-92.34 433.58,-85.66\"/>\n",
       "</g>\n",
       "<!-- 2619462942784 -->\n",
       "<g id=\"node12\" class=\"node\">\n",
       "<title>2619462942784</title>\n",
       "<polygon fill=\"orange\" stroke=\"black\" points=\"719,-153 642,-153 642,-122 719,-122 719,-153\"/>\n",
       "<text text-anchor=\"middle\" x=\"680.5\" y=\"-129\" font-family=\"monospace\" font-size=\"10.00\"> (32, 128)</text>\n",
       "</g>\n",
       "<!-- 2619462942784&#45;&gt;2619462967360 -->\n",
       "<g id=\"edge10\" class=\"edge\">\n",
       "<title>2619462942784&#45;&gt;2619462967360</title>\n",
       "<path fill=\"none\" stroke=\"black\" d=\"M641.87,-124.2C639.05,-123.42 636.24,-122.68 633.5,-122 575.78,-107.75 509.19,-95.66 461.15,-87.7\"/>\n",
       "<polygon fill=\"black\" stroke=\"black\" points=\"461.63,-84.23 451.19,-86.06 460.49,-91.14 461.63,-84.23\"/>\n",
       "</g>\n",
       "</g>\n",
       "</svg>\n"
      ],
      "text/plain": [
       "<graphviz.graphs.Digraph at 0x261e4387c70>"
      ]
     },
     "execution_count": 8,
     "metadata": {},
     "output_type": "execute_result"
    }
   ],
   "source": [
    "################################# VISUALIZE ####################################\n",
    "# Computation Graph\n",
    "from torchviz import make_dot\n",
    "make_dot(err)"
   ]
  },
  {
   "cell_type": "code",
   "execution_count": 15,
   "metadata": {},
   "outputs": [
    {
     "data": {
      "image/png": "[encoded data removed]",
      "text/plain": [
       "<Figure size 432x288 with 1 Axes>"
      ]
     },
     "metadata": {
      "needs_background": "light"
     },
     "output_type": "display_data"
    },
    {
     "data": {
      "text/plain": [
       "<matplotlib.image.AxesImage at 0x261e44b2280>"
      ]
     },
     "execution_count": 15,
     "metadata": {},
     "output_type": "execute_result"
    },
    {
     "data": {
      "image/png": "[encoded data removed]",
      "text/plain": [
       "<Figure size 432x288 with 1 Axes>"
      ]
     },
     "metadata": {
      "needs_background": "light"
     },
     "output_type": "display_data"
    }
   ],
   "source": [
    "################################# ANIMATION ####################################\n",
    "\n",
    "from matplotlib.animation import FuncAnimation\n",
    "label = (torch.nn.functional.one_hot(torch.LongTensor([9]),10))\n",
    "clamped = set_label(0.1*torch.rand(1,M,N),label)\n",
    "\n",
    "FRAMES = 200\n",
    "img_data = [clamped.detach().clone().numpy()]\n",
    "for i in range(FRAMES):\n",
    "    prob_hr = rbm.forward(clamped.flatten().bernoulli()).bernoulli()\n",
    "    prob_vr = rbm.generate(prob_hr).view(1,M,N)\n",
    "    clamped = set_label(prob_vr,label)\n",
    "    img_data.append(clamped.detach().clone().numpy())\n",
    "\n",
    "fig = plt.figure()\n",
    "plot = plt.matshow(img_data[0].reshape(*SHAPE),fignum=0)\n",
    "\n",
    "def init():\n",
    "    plot.set_data(img_data[0].reshape(*SHAPE))\n",
    "    return [plot]\n",
    "\n",
    "def update(j):\n",
    "    plot.set_data(img_data[j].reshape(*SHAPE))\n",
    "    return [plot]\n",
    "\n",
    "anim = FuncAnimation(fig,update,init_func=init,frames=FRAMES,interval=10,blit=True)\n",
    "plt.show(block=False)\n",
    "anim.save(\"./animation.gif\",\"pillow\")\n",
    "\n",
    "plt.matshow(img_data[-1].reshape(*SHAPE),fignum=0)"
   ]
  }
 ],
 "metadata": {
  "kernelspec": {
   "display_name": "Python 3",
   "language": "python",
   "name": "python3"
  },
  "language_info": {
   "codemirror_mode": {
    "name": "ipython",
    "version": 3
   },
   "file_extension": ".py",
   "mimetype": "text/x-python",
   "name": "python",
   "nbconvert_exporter": "python",
   "pygments_lexer": "ipython3",
   "version": "3.9.6"
  }
 },
 "nbformat": 4,
 "nbformat_minor": 2
}
