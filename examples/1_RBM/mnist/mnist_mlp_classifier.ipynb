{
 "cells": [
  {
   "cell_type": "markdown",
   "metadata": {},
   "source": [
    "## Reference example using Multi-Layer Perceptron\n",
    "### This example does not use QAML or Boltzmann Machines\n",
    "Developed by: Jose Pinilla"
   ]
  },
  {
   "cell_type": "code",
   "execution_count": 1,
   "metadata": {},
   "outputs": [],
   "source": [
    "# Required packages\n",
    "import torch\n",
    "\n",
    "import matplotlib.pyplot as plt\n",
    "\n",
    "import torchvision.datasets as torch_datasets\n",
    "import torchvision.transforms as torch_transforms"
   ]
  },
  {
   "cell_type": "code",
   "execution_count": 2,
   "metadata": {},
   "outputs": [],
   "source": [
    "################################# Hyperparameters ##############################\n",
    "EPOCHS = 20\n",
    "BATCH_SIZE = 64\n",
    "\n",
    "# Stochastic Gradient Descent\n",
    "learning_rate = 1e-3\n",
    "weight_decay = 1e-4\n",
    "momentum = 0.5\n",
    "\n",
    "# N is batch size; D_in is input dimension;\n",
    "# H is hidden dimension\n",
    "N, D_in, H, D_out = 64, 784, 128, 10\n",
    "\n",
    "TEST_SIZE = 400\n",
    "TRAIN_SIZE = 2400"
   ]
  },
  {
   "cell_type": "code",
   "execution_count": 3,
   "metadata": {},
   "outputs": [],
   "source": [
    "#################################### Input Data ################################\n",
    "train_dataset = torch_datasets.MNIST(root='./data/', train=True,\n",
    "                                     transform=torch_transforms.ToTensor(),\n",
    "                                     download=True)\n",
    "train_sampler = torch.utils.data.RandomSampler(train_dataset,num_samples=TRAIN_SIZE)\n",
    "train_loader = torch.utils.data.DataLoader(train_dataset, batch_size=BATCH_SIZE,\n",
    "                                           sampler=train_sampler)\n",
    "\n",
    "test_dataset = torch_datasets.MNIST(root='./data/', train=False,\n",
    "                                    transform=torch_transforms.ToTensor(),\n",
    "                                    download=True)\n",
    "test_sampler = torch.utils.data.RandomSampler(test_dataset,num_samples=TEST_SIZE)\n",
    "test_loader = torch.utils.data.DataLoader(test_dataset,sampler=test_sampler)"
   ]
  },
  {
   "cell_type": "code",
   "execution_count": 4,
   "metadata": {},
   "outputs": [],
   "source": [
    "################################## Model Training ##############################\n",
    "model = torch.nn.Sequential(torch.nn.Linear(D_in, H),\n",
    "                            torch.nn.ReLU(),\n",
    "                            torch.nn.Linear(H, D_out),)\n",
    "loss_fn = torch.nn.MSELoss(reduction='sum')\n",
    "optimizer = torch.optim.Adam(model.parameters(), lr=1e-4)"
   ]
  },
  {
   "cell_type": "code",
   "execution_count": 5,
   "metadata": {},
   "outputs": [
    {
     "name": "stdout",
     "output_type": "stream",
     "text": [
      "Epoch 0 Loss = 24.178735733032227\n",
      "Testing accuracy: 231/400 (0.58)\n",
      "Epoch 1 Loss = 18.934938430786133\n",
      "Testing accuracy: 303/400 (0.76)\n",
      "Epoch 2 Loss = 16.195180892944336\n",
      "Testing accuracy: 321/400 (0.80)\n",
      "Epoch 3 Loss = 16.23239517211914\n",
      "Testing accuracy: 316/400 (0.79)\n",
      "Epoch 4 Loss = 15.839576721191406\n",
      "Testing accuracy: 333/400 (0.83)\n",
      "Epoch 5 Loss = 13.149567604064941\n",
      "Testing accuracy: 328/400 (0.82)\n",
      "Epoch 6 Loss = 14.151419639587402\n",
      "Testing accuracy: 333/400 (0.83)\n",
      "Epoch 7 Loss = 11.760783195495605\n",
      "Testing accuracy: 348/400 (0.87)\n",
      "Epoch 8 Loss = 11.72308349609375\n",
      "Testing accuracy: 344/400 (0.86)\n",
      "Epoch 9 Loss = 13.685270309448242\n",
      "Testing accuracy: 341/400 (0.85)\n",
      "Epoch 10 Loss = 8.443955421447754\n",
      "Testing accuracy: 355/400 (0.89)\n",
      "Epoch 11 Loss = 9.048995018005371\n",
      "Testing accuracy: 360/400 (0.90)\n",
      "Epoch 12 Loss = 9.726346969604492\n",
      "Testing accuracy: 357/400 (0.89)\n",
      "Epoch 13 Loss = 9.326949119567871\n",
      "Testing accuracy: 361/400 (0.90)\n",
      "Epoch 14 Loss = 10.880500793457031\n",
      "Testing accuracy: 362/400 (0.91)\n",
      "Epoch 15 Loss = 9.957481384277344\n",
      "Testing accuracy: 366/400 (0.92)\n",
      "Epoch 16 Loss = 9.760270118713379\n",
      "Testing accuracy: 368/400 (0.92)\n",
      "Epoch 17 Loss = 8.320877075195312\n",
      "Testing accuracy: 366/400 (0.92)\n",
      "Epoch 18 Loss = 10.766145706176758\n",
      "Testing accuracy: 360/400 (0.90)\n",
      "Epoch 19 Loss = 6.712255954742432\n",
      "Testing accuracy: 372/400 (0.93)\n"
     ]
    }
   ],
   "source": [
    "err_log = []\n",
    "accuracy_log = []\n",
    "for t in range(EPOCHS):\n",
    "    for v_batch, labels_batch in train_loader:\n",
    "        y_ref = torch.nn.functional.one_hot(labels_batch,10).float()\n",
    "        # Forward pass: compute predicted y by passing x to the model.\n",
    "        y_pred = model(v_batch.view(len(v_batch),D_in))\n",
    "\n",
    "        # Compute and print loss.\n",
    "        loss = loss_fn(y_pred, y_ref)\n",
    "\n",
    "        # Before the backward pass, use the optimizer object to zero all of the\n",
    "        # gradients for the Tensors it will update\n",
    "        # (which are the learnable weights of the model)\n",
    "        optimizer.zero_grad()\n",
    "\n",
    "        # Backward pass: compute gradient of the loss with respect to parameters\n",
    "        loss.backward()\n",
    "\n",
    "        # The step function on an Optimizer makes an update to its parameters\n",
    "        optimizer.step()\n",
    "    err_log.append(loss.item())\n",
    "    print(f\"Epoch {t} Loss = {loss.item()}\")\n",
    "\n",
    "    ############################## CLASSIFICATION ##############################\n",
    "    count = 0\n",
    "    for test_data, test_label in test_loader:\n",
    "        label_pred = model(test_data.view(1,D_in)).argmax()\n",
    "        if label_pred == test_label:\n",
    "            count+=1\n",
    "    accuracy_log.append(count/TEST_SIZE)\n",
    "    print(f\"Testing accuracy: {count}/{TEST_SIZE} ({count/TEST_SIZE:.2f})\")"
   ]
  },
  {
   "cell_type": "code",
   "execution_count": 6,
   "metadata": {},
   "outputs": [
    {
     "data": {
      "text/plain": [
       "Text(0.5, 0, 'Epoch')"
      ]
     },
     "execution_count": 6,
     "metadata": {},
     "output_type": "execute_result"
    },
    {
     "data": {
      "image/png": "[encoded data removed]",
      "text/plain": [
       "<Figure size 432x288 with 1 Axes>"
      ]
     },
     "metadata": {
      "needs_background": "light"
     },
     "output_type": "display_data"
    }
   ],
   "source": [
    "fig, ax = plt.subplots()\n",
    "plt.plot(err_log)\n",
    "plt.ylabel(\"Reconstruction Error\")\n",
    "plt.xlabel(\"Epoch\")"
   ]
  },
  {
   "cell_type": "code",
   "execution_count": 7,
   "metadata": {},
   "outputs": [
    {
     "data": {
      "text/plain": [
       "Text(0.5, 0, 'Epoch')"
      ]
     },
     "execution_count": 7,
     "metadata": {},
     "output_type": "execute_result"
    },
    {
     "data": {
      "image/png": "[encoded data removed]",
      "text/plain": [
       "<Figure size 432x288 with 1 Axes>"
      ]
     },
     "metadata": {
      "needs_background": "light"
     },
     "output_type": "display_data"
    }
   ],
   "source": [
    "fig, ax = plt.subplots()\n",
    "plt.plot(accuracy_log)\n",
    "plt.ylabel(\"Accuracy\")\n",
    "plt.xlabel(\"Epoch\")"
   ]
  },
  {
   "cell_type": "code",
   "execution_count": null,
   "metadata": {},
   "outputs": [],
   "source": []
  }
 ],
 "metadata": {
  "kernelspec": {
   "display_name": "Python 3",
   "language": "python",
   "name": "python3"
  },
  "language_info": {
   "codemirror_mode": {
    "name": "ipython",
    "version": 3
   },
   "file_extension": ".py",
   "mimetype": "text/x-python",
   "name": "python",
   "nbconvert_exporter": "python",
   "pygments_lexer": "ipython3",
   "version": "3.9.6"
  }
 },
 "nbformat": 4,
 "nbformat_minor": 2
}
