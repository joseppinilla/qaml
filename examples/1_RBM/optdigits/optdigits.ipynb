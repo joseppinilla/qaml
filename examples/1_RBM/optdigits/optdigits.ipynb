{
 "cells": [
  {
   "cell_type": "markdown",
   "metadata": {},
   "source": [
    "## Classical RBM training on the OptDigits Dataset for reconstruction and classification\n",
    "Developed by: Jose Pinilla"
   ]
  },
  {
   "cell_type": "code",
   "execution_count": 1,
   "metadata": {},
   "outputs": [],
   "source": [
    "# Required packages\n",
    "import qaml\n",
    "import torch\n",
    "torch.manual_seed(36) # For deterministic weights\n",
    "\n",
    "import matplotlib.pyplot as plt\n",
    "import torchvision.transforms as torch_transforms"
   ]
  },
  {
   "cell_type": "code",
   "execution_count": 2,
   "metadata": {},
   "outputs": [],
   "source": [
    "################################# Hyperparameters ##############################\n",
    "M,N = SHAPE = (8,8)\n",
    "DATA_SIZE = N*M\n",
    "EPOCHS = 35\n",
    "BATCH_SIZE = 1024\n",
    "SUBCLASSES = [0,1,2,3,5,6,7,8]\n",
    "\n",
    "# Stochastic Gradient Descent\n",
    "learning_rate = 0.1\n",
    "weight_decay = 1e-4\n",
    "momentum = 0.5\n"
   ]
  },
  {
   "cell_type": "code",
   "execution_count": 3,
   "metadata": {},
   "outputs": [
    {
     "name": "stdout",
     "output_type": "stream",
     "text": [
      "Using downloaded and verified file ./data/OptDigits\\raw\\optdigits.tra\n",
      "Using downloaded and verified file ./data/OptDigits\\raw\\optdigits.tes\n"
     ]
    },
    {
     "data": {
      "image/png": "[encoded data removed]",
      "text/plain": [
       "<Figure size 432x288 with 20 Axes>"
      ]
     },
     "metadata": {
      "needs_background": "light"
     },
     "output_type": "display_data"
    }
   ],
   "source": [
    "#################################### Input Data ################################\n",
    "opt_train = qaml.datasets.OptDigits(root='./data/',train=True,download=True,\n",
    "                                        transform=qaml.datasets.ToSpinTensor())\n",
    "qaml.datasets._subset_classes(opt_train,SUBCLASSES)\n",
    "qaml.datasets._embed_labels(opt_train,encoding='one_hot',scale=255)\n",
    "train_sampler = torch.utils.data.RandomSampler(opt_train,replacement=False)\n",
    "train_loader = torch.utils.data.DataLoader(opt_train,BATCH_SIZE,sampler=train_sampler)\n",
    "\n",
    "\n",
    "opt_test = qaml.datasets.OptDigits(root='./data/',train=False,download=True,\n",
    "                                       transform=qaml.datasets.ToSpinTensor())\n",
    "qaml.datasets._subset_classes(opt_test,SUBCLASSES)\n",
    "set_label,get_label = qaml.datasets._embed_labels(opt_test,encoding='one_hot',\n",
    "                                                  scale=255,setter_getter=True)\n",
    "\n",
    "test_sampler = torch.utils.data.RandomSampler(opt_test,replacement=False)\n",
    "test_loader = torch.utils.data.DataLoader(opt_test,sampler=test_sampler)\n",
    "\n",
    "# Visualize\n",
    "fig, axs = plt.subplots(4, 5)\n",
    "for ax, (img, label) in zip(axs.flat, test_loader):\n",
    "    ax.matshow(img.squeeze())\n",
    "    # ax.set_title(int(label))\n",
    "    ax.axis('off')\n",
    "plt.tight_layout()"
   ]
  },
  {
   "cell_type": "code",
   "execution_count": 4,
   "metadata": {},
   "outputs": [],
   "source": [
    "################################# Model Definition #############################\n",
    "VISIBLE_SIZE = DATA_SIZE\n",
    "HIDDEN_SIZE = 16\n",
    "\n",
    "# Specify model with dimensions\n",
    "rbm = qaml.nn.RBM(VISIBLE_SIZE,HIDDEN_SIZE,'SPIN')\n",
    "\n",
    "# Set up optimizer\n",
    "optimizer = torch.optim.SGD(rbm.parameters(),lr=learning_rate,\n",
    "                            weight_decay=weight_decay,momentum=momentum)\n",
    "\n",
    "# Set up training mechanisms\n",
    "beta = 1.0\n",
    "gibbs_sampler = qaml.sampler.GibbsNetworkSampler(rbm,BATCH_SIZE,beta=beta)\n",
    "CD = qaml.autograd.ContrastiveDivergence"
   ]
  },
  {
   "cell_type": "code",
   "execution_count": 5,
   "metadata": {},
   "outputs": [
    {
     "name": "stdout",
     "output_type": "stream",
     "text": [
      "Epoch 0 KL-Divergence = 23.3824405670166\n",
      "Epoch 0 Reconstruction Error = 65.29471588134766\n",
      "Testing accuracy: 236/1436 (0.16)\n",
      "Epoch 1 KL-Divergence = 0.8435183167457581\n",
      "Epoch 1 Reconstruction Error = 13.34655475616455\n",
      "Testing accuracy: 437/1436 (0.30)\n",
      "Epoch 2 KL-Divergence = 0.5156794190406799\n",
      "Epoch 2 Reconstruction Error = 7.021389961242676\n",
      "Testing accuracy: 597/1436 (0.42)\n",
      "Epoch 3 KL-Divergence = 0.4358593225479126\n",
      "Epoch 3 Reconstruction Error = 4.4518280029296875\n",
      "Testing accuracy: 675/1436 (0.47)\n",
      "Epoch 4 KL-Divergence = 0.6604816317558289\n",
      "Epoch 4 Reconstruction Error = 4.192144870758057\n",
      "Testing accuracy: 716/1436 (0.50)\n",
      "Epoch 5 KL-Divergence = 0.6127815246582031\n",
      "Epoch 5 Reconstruction Error = 4.336852550506592\n",
      "Testing accuracy: 856/1436 (0.60)\n",
      "Epoch 6 KL-Divergence = 0.7558823823928833\n",
      "Epoch 6 Reconstruction Error = 3.6474623680114746\n",
      "Testing accuracy: 950/1436 (0.66)\n",
      "Epoch 7 KL-Divergence = 0.5868592262268066\n",
      "Epoch 7 Reconstruction Error = 3.9668362140655518\n",
      "Testing accuracy: 960/1436 (0.67)\n",
      "Epoch 8 KL-Divergence = 0.8032989501953125\n",
      "Epoch 8 Reconstruction Error = 3.6679065227508545\n",
      "Testing accuracy: 998/1436 (0.69)\n",
      "Epoch 9 KL-Divergence = 0.7099651098251343\n",
      "Epoch 9 Reconstruction Error = 3.2800941467285156\n",
      "Testing accuracy: 999/1436 (0.70)\n",
      "Epoch 10 KL-Divergence = 0.4602806568145752\n",
      "Epoch 10 Reconstruction Error = 3.1614902019500732\n",
      "Testing accuracy: 1019/1436 (0.71)\n",
      "Epoch 11 KL-Divergence = 0.8422478437423706\n",
      "Epoch 11 Reconstruction Error = 2.941443920135498\n",
      "Testing accuracy: 1008/1436 (0.70)\n",
      "Epoch 12 KL-Divergence = 0.9561834335327148\n",
      "Epoch 12 Reconstruction Error = 2.8137502670288086\n",
      "Testing accuracy: 1021/1436 (0.71)\n",
      "Epoch 13 KL-Divergence = 0.6277583241462708\n",
      "Epoch 13 Reconstruction Error = 2.7840089797973633\n",
      "Testing accuracy: 1045/1436 (0.73)\n",
      "Epoch 14 KL-Divergence = 0.48713621497154236\n",
      "Epoch 14 Reconstruction Error = 3.0841169357299805\n",
      "Testing accuracy: 1033/1436 (0.72)\n",
      "Epoch 15 KL-Divergence = 0.41505444049835205\n",
      "Epoch 15 Reconstruction Error = 3.0205211639404297\n",
      "Testing accuracy: 1033/1436 (0.72)\n",
      "Epoch 16 KL-Divergence = 0.6637634038925171\n",
      "Epoch 16 Reconstruction Error = 3.0861120223999023\n",
      "Testing accuracy: 1029/1436 (0.72)\n",
      "Epoch 17 KL-Divergence = 0.421366810798645\n",
      "Epoch 17 Reconstruction Error = 2.836033821105957\n",
      "Testing accuracy: 1072/1436 (0.75)\n",
      "Epoch 18 KL-Divergence = 0.38273555040359497\n",
      "Epoch 18 Reconstruction Error = 2.890148639678955\n",
      "Testing accuracy: 1067/1436 (0.74)\n",
      "Epoch 19 KL-Divergence = 0.3789188265800476\n",
      "Epoch 19 Reconstruction Error = 2.9345922470092773\n",
      "Testing accuracy: 1079/1436 (0.75)\n",
      "Epoch 20 KL-Divergence = 0.4188278615474701\n",
      "Epoch 20 Reconstruction Error = 2.629843235015869\n",
      "Testing accuracy: 1072/1436 (0.75)\n",
      "Epoch 21 KL-Divergence = 0.4955361783504486\n",
      "Epoch 21 Reconstruction Error = 2.8130688667297363\n",
      "Testing accuracy: 1085/1436 (0.76)\n",
      "Epoch 22 KL-Divergence = 0.45388346910476685\n",
      "Epoch 22 Reconstruction Error = 2.9512341022491455\n",
      "Testing accuracy: 1090/1436 (0.76)\n",
      "Epoch 23 KL-Divergence = 0.4977019429206848\n",
      "Epoch 23 Reconstruction Error = 2.804516553878784\n",
      "Testing accuracy: 1094/1436 (0.76)\n",
      "Epoch 24 KL-Divergence = 0.48182788491249084\n",
      "Epoch 24 Reconstruction Error = 2.7954909801483154\n",
      "Testing accuracy: 1098/1436 (0.76)\n",
      "Epoch 25 KL-Divergence = 0.5110371112823486\n",
      "Epoch 25 Reconstruction Error = 2.3792152404785156\n",
      "Testing accuracy: 1065/1436 (0.74)\n",
      "Epoch 26 KL-Divergence = 0.5572589635848999\n",
      "Epoch 26 Reconstruction Error = 2.8955745697021484\n",
      "Testing accuracy: 1108/1436 (0.77)\n",
      "Epoch 27 KL-Divergence = 0.4643986225128174\n",
      "Epoch 27 Reconstruction Error = 2.8887252807617188\n",
      "Testing accuracy: 1092/1436 (0.76)\n",
      "Epoch 28 KL-Divergence = 0.6667171716690063\n",
      "Epoch 28 Reconstruction Error = 3.369107246398926\n",
      "Testing accuracy: 1103/1436 (0.77)\n",
      "Epoch 29 KL-Divergence = 0.47864288091659546\n",
      "Epoch 29 Reconstruction Error = 2.636075019836426\n",
      "Testing accuracy: 1098/1436 (0.76)\n",
      "Epoch 30 KL-Divergence = 0.48274868726730347\n",
      "Epoch 30 Reconstruction Error = 3.0744805335998535\n",
      "Testing accuracy: 1106/1436 (0.77)\n",
      "Epoch 31 KL-Divergence = 0.5267632603645325\n",
      "Epoch 31 Reconstruction Error = 3.2751524448394775\n",
      "Testing accuracy: 1085/1436 (0.76)\n",
      "Epoch 32 KL-Divergence = 0.4404677748680115\n",
      "Epoch 32 Reconstruction Error = 2.841953754425049\n",
      "Testing accuracy: 1112/1436 (0.77)\n",
      "Epoch 33 KL-Divergence = 0.39440107345581055\n",
      "Epoch 33 Reconstruction Error = 2.894765853881836\n",
      "Testing accuracy: 1093/1436 (0.76)\n",
      "Epoch 34 KL-Divergence = 0.43311452865600586\n",
      "Epoch 34 Reconstruction Error = 2.631303310394287\n",
      "Testing accuracy: 1107/1436 (0.77)\n"
     ]
    }
   ],
   "source": [
    "################################## Model Training ##############################\n",
    "# Set the model to training mode\n",
    "rbm.train()\n",
    "err_log = []\n",
    "kl_div_log = []\n",
    "accuracy_log = []\n",
    "b_log = [rbm.b.detach().clone().numpy()]\n",
    "c_log = [rbm.c.detach().clone().numpy()]\n",
    "W_log = [rbm.W.detach().clone().numpy().flatten()]\n",
    "for t in range(EPOCHS):\n",
    "    kl_div = torch.Tensor([0.])\n",
    "    epoch_error = torch.Tensor([0.])\n",
    "    for img_batch, labels_batch in train_loader:\n",
    "        input_data = img_batch.flatten(1)\n",
    "\n",
    "        # Positive Phase\n",
    "        v0, p_h0 = gibbs_sampler(input_data.detach(),k=0)\n",
    "        # Negative Phase\n",
    "        p_vk, p_hk = gibbs_sampler(v0.detach(),k=1)\n",
    "\n",
    "        # Reconstruction error from Contrastive Divergence\n",
    "        err = CD.apply(gibbs_sampler,(v0,p_h0),(p_vk,p_hk),*rbm.parameters())\n",
    "\n",
    "        # Do not accumulated gradients\n",
    "        optimizer.zero_grad()\n",
    "\n",
    "        # Compute gradients\n",
    "        err.backward()\n",
    "\n",
    "        # Update parameters\n",
    "        optimizer.step()\n",
    "\n",
    "        #Accumulate error for this epoch\n",
    "        epoch_error  += err\n",
    "        kl_div += qaml.perf.free_energy_smooth_kl(rbm,v0,gibbs_sampler.sample(p_vk))\n",
    "    # KL-Divergence\n",
    "    kl_div_log.append(kl_div.item())\n",
    "    print(f\"Epoch {t} KL-Divergence = {kl_div.item()}\")\n",
    "    # Error Log\n",
    "    b_log.append(rbm.b.detach().clone().numpy())\n",
    "    c_log.append(rbm.c.detach().clone().numpy())\n",
    "    W_log.append(rbm.W.detach().clone().numpy().flatten())\n",
    "    err_log.append(epoch_error.item())\n",
    "    print(f\"Epoch {t} Reconstruction Error = {epoch_error.item()}\")\n",
    "\n",
    "    ############################## CLASSIFICATION ##################################\n",
    "    count = 0\n",
    "    for test_data, test_label in opt_test:\n",
    "        input_data =  test_data.flatten(1)\n",
    "        mask = set_label(torch.ones_like(test_data),0).flatten()\n",
    "        v_recon,h_recon = gibbs_sampler.reconstruct(input_data,mask=mask,k=5)\n",
    "        label_pred = get_label(v_recon.view(-1,*SHAPE))\n",
    "        if label_pred.argmax() == get_label(test_data).argmax():\n",
    "            count+=1\n",
    "    accuracy_log.append(count/len(opt_test))\n",
    "    print(f\"Testing accuracy: {count}/{len(opt_test)} ({count/len(opt_test):.2f})\")\n"
   ]
  },
  {
   "cell_type": "code",
   "execution_count": 6,
   "metadata": {},
   "outputs": [
    {
     "data": {
      "text/plain": [
       "Text(0.5, 0, 'Epoch')"
      ]
     },
     "execution_count": 6,
     "metadata": {},
     "output_type": "execute_result"
    },
    {
     "data": {
      "image/png": "[encoded data removed]",
      "text/plain": [
       "<Figure size 432x288 with 1 Axes>"
      ]
     },
     "metadata": {
      "needs_background": "light"
     },
     "output_type": "display_data"
    }
   ],
   "source": [
    "############################ MODEL VISUALIZATION ###############################\n",
    "\n",
    "# KL Divergence graph\n",
    "fig, ax = plt.subplots()\n",
    "ax.plot(kl_div_log)\n",
    "plt.ylabel(\"KL div\")\n",
    "plt.xlabel(\"Epoch\")"
   ]
  },
  {
   "cell_type": "code",
   "execution_count": 7,
   "metadata": {},
   "outputs": [
    {
     "data": {
      "text/plain": [
       "Text(0.5, 0, 'Epoch')"
      ]
     },
     "execution_count": 7,
     "metadata": {},
     "output_type": "execute_result"
    },
    {
     "data": {
      "image/png": "[encoded data removed]",
      "text/plain": [
       "<Figure size 432x288 with 1 Axes>"
      ]
     },
     "metadata": {
      "needs_background": "light"
     },
     "output_type": "display_data"
    }
   ],
   "source": [
    "# Testing accuracy graph\n",
    "fig, ax = plt.subplots()\n",
    "ax.plot(accuracy_log)\n",
    "plt.ylabel(\"Testing Accuracy\")\n",
    "plt.xlabel(\"Epoch\")"
   ]
  },
  {
   "cell_type": "code",
   "execution_count": 8,
   "metadata": {},
   "outputs": [
    {
     "data": {
      "text/plain": [
       "Text(0.5, 0, 'Epoch')"
      ]
     },
     "execution_count": 8,
     "metadata": {},
     "output_type": "execute_result"
    },
    {
     "data": {
      "image/png": "[encoded data removed]",
      "text/plain": [
       "<Figure size 432x288 with 1 Axes>"
      ]
     },
     "metadata": {
      "needs_background": "light"
     },
     "output_type": "display_data"
    }
   ],
   "source": [
    "# L1 error graph\n",
    "fig, ax = plt.subplots()\n",
    "ax.plot(err_log)\n",
    "plt.ylabel(\"Reconstruction Error\")\n",
    "plt.xlabel(\"Epoch\")"
   ]
  },
  {
   "cell_type": "code",
   "execution_count": 9,
   "metadata": {},
   "outputs": [
    {
     "data": {
      "text/plain": [
       "<matplotlib.colorbar.Colorbar at 0x1922365c9d0>"
      ]
     },
     "execution_count": 9,
     "metadata": {},
     "output_type": "execute_result"
    },
    {
     "data": {
      "image/png": "[encoded data removed]",
      "text/plain": [
       "<Figure size 288x288 with 2 Axes>"
      ]
     },
     "metadata": {
      "needs_background": "light"
     },
     "output_type": "display_data"
    }
   ],
   "source": [
    "########################## VISUALIZE WEIGHTS ###################################\n",
    "plt.matshow(rbm.b.detach()[:DATA_SIZE].view(*SHAPE), cmap='viridis', vmin=-1, vmax=1)\n",
    "plt.colorbar()\n",
    "\n"
   ]
  },
  {
   "cell_type": "code",
   "execution_count": 10,
   "metadata": {},
   "outputs": [
    {
     "data": {
      "image/png": "[encoded data removed]",
      "text/plain": [
       "<Figure size 432x288 with 17 Axes>"
      ]
     },
     "metadata": {
      "needs_background": "light"
     },
     "output_type": "display_data"
    }
   ],
   "source": [
    "########################## VISUALIZE WEIGHTS ###################################\n",
    "fig,axs = plt.subplots(HIDDEN_SIZE//4,4)\n",
    "for i,ax in enumerate(axs.flat):\n",
    "    weight_matrix = rbm.W[i].detach()[:DATA_SIZE].view(*SHAPE)\n",
    "    ms = ax.matshow(weight_matrix, cmap='viridis', vmin=-1, vmax=1)\n",
    "    ax.axis('off')\n",
    "cbar = fig.colorbar(ms, ax=axs.ravel().tolist(), shrink=0.95)"
   ]
  }
 ],
 "metadata": {
  "kernelspec": {
   "display_name": "Python 3",
   "language": "python",
   "name": "python3"
  },
  "language_info": {
   "codemirror_mode": {
    "name": "ipython",
    "version": 3
   },
   "file_extension": ".py",
   "mimetype": "text/x-python",
   "name": "python",
   "nbconvert_exporter": "python",
   "pygments_lexer": "ipython3",
   "version": "3.9.6"
  }
 },
 "nbformat": 4,
 "nbformat_minor": 2
}
