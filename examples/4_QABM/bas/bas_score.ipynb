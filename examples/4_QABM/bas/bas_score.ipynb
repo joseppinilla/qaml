{
 "cells": [
  {
   "cell_type": "code",
   "execution_count": 1,
   "metadata": {},
   "outputs": [],
   "source": [
    "# # Classical BM training on the Bars-And-Stripes Dataset for Reconstruction\n",
    "# Developed by: Jose Pinilla\n",
    "\n",
    "# Required packages\n",
    "import qaml\n",
    "import torch\n",
    "torch.manual_seed(2) # For deterministic weights\n",
    "\n",
    "import matplotlib.pyplot as plt"
   ]
  },
  {
   "cell_type": "code",
   "execution_count": 2,
   "metadata": {},
   "outputs": [],
   "source": [
    "################################# Hyperparameters ##############################\n",
    "EPOCHS = 50\n",
    "M,N = SHAPE = (6,6)\n",
    "DATA_SIZE = N*M\n",
    "\n",
    "# Stochastic Gradient Descent\n",
    "learning_rate = 0.1\n",
    "weight_decay = 1e-4\n",
    "momentum = 0.5\n",
    "\n",
    "TRAIN_READS = 100"
   ]
  },
  {
   "cell_type": "code",
   "execution_count": 3,
   "metadata": {},
   "outputs": [],
   "source": [
    "################################# Model Definition #############################\n",
    "VISIBLE_SIZE = DATA_SIZE\n",
    "HIDDEN_SIZE = 8\n",
    "\n",
    "# Specify model with dimensions\n",
    "bm = qaml.nn.BM(VISIBLE_SIZE, HIDDEN_SIZE,'SPIN',lin_range=[-4,4],quad_range=[-1,1])"
   ]
  },
  {
   "cell_type": "code",
   "execution_count": 4,
   "metadata": {},
   "outputs": [],
   "source": [
    "# Set up optimizer\n",
    "optimizer = torch.optim.SGD(bm.parameters(), lr=learning_rate,\n",
    "                            weight_decay=weight_decay,momentum=momentum)\n",
    "\n",
    "# Set up training mechanisms\n",
    "SOLVER_NAME = \"Advantage_system4.1\"\n",
    "pos_sampler = qaml.sampler.BatchQASampler(bm,solver=SOLVER_NAME,mask=True)\n",
    "POS_BATCH = len(pos_sampler.batch_embeddings)\n",
    "neg_sampler = qaml.sampler.BatchQASampler(bm,solver=SOLVER_NAME)\n",
    "NEG_BATCH = len(neg_sampler.batch_embeddings)\n",
    "\n",
    "ML = qaml.autograd.MaximumLikelihood"
   ]
  },
  {
   "cell_type": "code",
   "execution_count": null,
   "metadata": {},
   "outputs": [],
   "source": [
    "#################################### Input Data ################################\n",
    "train_dataset = qaml.datasets.BAS(*SHAPE,transform=qaml.datasets.ToSpinTensor())\n",
    "set_label,get_label = qaml.datasets._embed_labels(train_dataset,\n",
    "                                                  encoding='binary',\n",
    "                                                  setter_getter=True)\n",
    "train_sampler = torch.utils.data.RandomSampler(train_dataset,replacement=False)\n",
    "train_loader = torch.utils.data.DataLoader(train_dataset,POS_BATCH,sampler=train_sampler)\n",
    "TEST_READS = len(train_dataset)\n",
    "# PLot all data\n",
    "fig,axs = plt.subplots(4,4)\n",
    "for batch_img,batch_label in train_loader:\n",
    "    for ax,img,label in zip(axs.flat,batch_img,batch_label):\n",
    "        ax.matshow(img.view(*SHAPE),vmin=0,vmax=1); ax.axis('off')\n",
    "plt.tight_layout()\n",
    "plt.savefig(\"dataset.svg\")"
   ]
  },
  {
   "cell_type": "code",
   "execution_count": null,
   "metadata": {},
   "outputs": [],
   "source": [
    "################################## Pre-Training ################################\n",
    "# Set the model to training mode\n",
    "bm.train()\n",
    "p_log = []\n",
    "r_log = []\n",
    "err_log = []\n",
    "score_log = []\n",
    "epoch_err_log = []\n",
    "\n",
    "# BAS score\n",
    "vs,hs = neg_sampler(num_reads=TEST_READS)\n",
    "precision, recall, score = train_dataset.score(((vs+1)/2).view(-1,*SHAPE))\n",
    "p_log.append(precision); r_log.append(recall); score_log.append(score)\n",
    "print(f\"Precision {precision:.2} Recall {recall:.2} Score {score:.2}\")"
   ]
  },
  {
   "cell_type": "code",
   "execution_count": null,
   "metadata": {},
   "outputs": [],
   "source": [
    "################################## Model Training ##############################\n",
    "for t in range(5):\n",
    "    kl_div = torch.Tensor([0.])\n",
    "    epoch_error = torch.Tensor([0.])\n",
    "    for img_batch,labels_batch in train_loader:\n",
    "        input_data = img_batch.view(1,-1)\n",
    "\n",
    "        # Positive Phase\n",
    "        v0, h0 = pos_sampler(input_data.detach(),num_reads=TRAIN_READS)\n",
    "        # Negative Phase\n",
    "        vk, hk = neg_sampler(num_reads=TRAIN_READS)\n",
    "\n",
    "        # Reconstruction error from Contrastive Divergence\n",
    "        err = ML.apply(neg_sampler,(v0,h0),(vk,hk), *bm.parameters())\n",
    "\n",
    "        # Do not accumulate gradients\n",
    "        optimizer.zero_grad()\n",
    "\n",
    "        # Compute gradients\n",
    "        err.backward()\n",
    "\n",
    "        # Update parameters\n",
    "        optimizer.step()\n",
    "\n",
    "        #Accumulate error for this epoch\n",
    "        epoch_error  += err\n",
    "        err_log.append(err.item())\n",
    "\n",
    "    # Error Log\n",
    "    epoch_err_log.append(epoch_error.item())\n",
    "    print(f\"Epoch {t} Reconstruction Error = {epoch_error.item()}\")\n",
    "    # BAS score\n",
    "    vs,hs = neg_sampler(num_reads=TEST_READS)\n",
    "    precision, recall, score = train_dataset.score(((vs+1)/2).view(-1,*SHAPE))\n",
    "    p_log.append(precision); r_log.append(recall); score_log.append(score)\n",
    "    print(f\"Precision {precision:.2} Recall {recall:.2} Score {score:.2}\")\n"
   ]
  },
  {
   "cell_type": "code",
   "execution_count": null,
   "metadata": {},
   "outputs": [],
   "source": [
    "# Samples\n",
    "fig,axs = plt.subplots(4,4)\n",
    "for ax,img in zip(axs.flat,vs):\n",
    "    ax.matshow(img.view(*SHAPE),vmin=0,vmax=1); ax.axis('off')\n",
    "plt.tight_layout()\n",
    "\n",
    "# Precision graph\n",
    "fig, ax = plt.subplots()\n",
    "ax.plot(p_log)\n",
    "plt.ylabel(\"Precision\")\n",
    "plt.xlabel(\"Epoch\")\n",
    "\n",
    "# Recall graph\n",
    "fig, ax = plt.subplots()\n",
    "ax.plot(r_log)\n",
    "plt.ylabel(\"Recall\")\n",
    "plt.xlabel(\"Epoch\")\n",
    "\n",
    "# Score graph\n",
    "fig, ax = plt.subplots()\n",
    "ax.plot(score_log)\n",
    "plt.ylabel(\"Score\")\n",
    "plt.xlabel(\"Epoch\")\n",
    "\n",
    "# Iteration Error\n",
    "fig, ax = plt.subplots()\n",
    "ax.plot(err_log)\n",
    "plt.ylabel(\"Reconstruction Error\")\n",
    "plt.xlabel(\"Epoch\")\n",
    "\n",
    "# Epoch Error\n",
    "fig, ax = plt.subplots()\n",
    "ax.plot(epoch_err_log)\n",
    "plt.ylabel(\"Reconstruction Error\")\n",
    "plt.xlabel(\"Epoch\")\n"
   ]
  }
 ],
 "metadata": {
  "kernelspec": {
   "display_name": "Python 3",
   "language": "python",
   "name": "python3"
  },
  "language_info": {
   "codemirror_mode": {
    "name": "ipython",
    "version": 3
   },
   "file_extension": ".py",
   "mimetype": "text/x-python",
   "name": "python",
   "nbconvert_exporter": "python",
   "pygments_lexer": "ipython3",
   "version": "3.9.6"
  }
 },
 "nbformat": 4,
 "nbformat_minor": 2
}
